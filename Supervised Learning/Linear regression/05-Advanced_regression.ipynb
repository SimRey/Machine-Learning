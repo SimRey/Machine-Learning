{
 "cells": [
  {
   "attachments": {},
   "cell_type": "markdown",
   "metadata": {},
   "source": [
    "## <center> Advanced topics of regression </center>\n",
    "\n",
    "For this chapter we will explore statsmodels OLS function, which gives a detailed description of an ordinary least square regression. Additional to that, a methodology to calculate and plot the confidence and prediction intervals will be presented."
   ]
  },
  {
   "cell_type": "code",
   "execution_count": 1,
   "metadata": {},
   "outputs": [],
   "source": [
    "import numpy as np\n",
    "from scipy.optimize import curve_fit\n",
    "import matplotlib.pyplot as plt    \n",
    "from scipy import stats\n",
    "import pandas as pd\n",
    "import statsmodels.api as sm\n",
    "\n",
    "import uncertainties.unumpy as unp\n",
    "import uncertainties as unc"
   ]
  },
  {
   "cell_type": "code",
   "execution_count": 2,
   "metadata": {},
   "outputs": [],
   "source": [
    "url = 'http://apmonitor.com/che263/uploads/Main/stats_data.txt'\n",
    "data = pd.read_csv(url)\n",
    "data.drop(columns=\"index\", inplace=True)\n",
    "x = data[\"x\"]\n",
    "y = data[\"y\"]\n",
    "n = data.shape[0]"
   ]
  },
  {
   "attachments": {},
   "cell_type": "markdown",
   "metadata": {},
   "source": [
    "### OLS\n",
    "The output of linear regression models, can at first be daunting. Since understanding this type of output is a worthwhile step towards more complex models. For more information regarding the calculation of each parameter, see Ch.11 of book an Introduction to statistics with Python."
   ]
  },
  {
   "cell_type": "code",
   "execution_count": 3,
   "metadata": {},
   "outputs": [
    {
     "name": "stdout",
     "output_type": "stream",
     "text": [
      "                                 OLS Regression Results                                \n",
      "=======================================================================================\n",
      "Dep. Variable:                      y   R-squared (uncentered):                   0.755\n",
      "Model:                            OLS   Adj. R-squared (uncentered):              0.753\n",
      "Method:                 Least Squares   F-statistic:                              302.4\n",
      "Date:                Wed, 14 Dec 2022   Prob (F-statistic):                    1.03e-31\n",
      "Time:                        20:20:06   Log-Likelihood:                          116.15\n",
      "No. Observations:                  99   AIC:                                     -230.3\n",
      "Df Residuals:                      98   BIC:                                     -227.7\n",
      "Df Model:                           1                                                  \n",
      "Covariance Type:            nonrobust                                                  \n",
      "==============================================================================\n",
      "                 coef    std err          t      P>|t|      [0.025      0.975]\n",
      "------------------------------------------------------------------------------\n",
      "x              0.0068      0.000     17.389      0.000       0.006       0.008\n",
      "==============================================================================\n",
      "Omnibus:                       55.514   Durbin-Watson:                   1.074\n",
      "Prob(Omnibus):                  0.000   Jarque-Bera (JB):              163.941\n",
      "Skew:                           2.066   Prob(JB):                     2.52e-36\n",
      "Kurtosis:                       7.762   Cond. No.                         1.00\n",
      "==============================================================================\n",
      "\n",
      "Notes:\n",
      "[1] R² is computed without centering (uncentered) since the model does not contain a constant.\n",
      "[2] Standard Errors assume that the covariance matrix of the errors is correctly specified.\n"
     ]
    }
   ],
   "source": [
    "result = sm.OLS(y, x).fit()\n",
    "print(result.summary())"
   ]
  },
  {
   "attachments": {},
   "cell_type": "markdown",
   "metadata": {},
   "source": [
    "### Confidence and prediction intervals"
   ]
  },
  {
   "cell_type": "code",
   "execution_count": 4,
   "metadata": {},
   "outputs": [
    {
     "name": "stdout",
     "output_type": "stream",
     "text": [
      "Adjusted parameters\n",
      "a: 0.036141582292222356\n",
      "b: -0.5735680960487426\n"
     ]
    }
   ],
   "source": [
    "# Curve fitting\n",
    "def f(x, a, b):\n",
    "    return a * x + b\n",
    "\n",
    "params, pcov = curve_fit(f, x, y) # Parameters and covariance are computed\n",
    "\n",
    "# Retrieve parameter values\n",
    "a = params[0]\n",
    "b = params[1]\n",
    "print('Adjusted parameters')\n",
    "print('a: ' + str(a))\n",
    "print('b: ' + str(b))"
   ]
  },
  {
   "cell_type": "code",
   "execution_count": 5,
   "metadata": {},
   "outputs": [
    {
     "name": "stdout",
     "output_type": "stream",
     "text": [
      "R^2: 0.5278048667629538\n"
     ]
    }
   ],
   "source": [
    "# Compute R^2\n",
    "y_hat = f(x,*params)\n",
    "SS_res = np.sum((y-y_hat)**2)\n",
    "\n",
    "y_bar = np.mean(y)\n",
    "SS_tot = np.sum((y-y_bar)**2)\n",
    "\n",
    "r2 = 1 - SS_res/SS_tot\n",
    "print('R^2: ' + str(r2))"
   ]
  },
  {
   "attachments": {},
   "cell_type": "markdown",
   "metadata": {},
   "source": [
    "#### Confidence interval\n",
    "Defined by the formula:\n",
    "\n",
    "$$ \\hat{yy_i} \\pm S_{\\hat{yy_i}}*t_{n-n_{pms}, 1 - \\frac{\\alpha}{2}} $$\n",
    "\n",
    "$$ S_{\\hat{yy_i}} = \\left( \\frac{1}{n} + \\frac{(xx_i - \\bar{x})^2}{\\sum^n _{i=1} (x_i - \\bar{x})^2} \\right)^{0.5} * \\hat{\\sigma}$$\n",
    "\n",
    "It's important to mention the $yy$ and $xx$ values are vectors of new series of points. Also worth mention:\n",
    "$$ \\hat{\\sigma}^2 = \\frac{\\sum^n _{i=1} y_i - \\hat{y}_i}{n-n_{pms}}$$"
   ]
  },
  {
   "cell_type": "code",
   "execution_count": 6,
   "metadata": {},
   "outputs": [],
   "source": [
    "px = np.linspace(14, 24, 100)\n",
    "\n",
    "def conf_band(x, y, xx, pms, func, conf=0.95):\n",
    "    n = x.size          # data sample size\n",
    "    n_pms = len(pms)    # number of parameters\n",
    "    alpha = 1.0 - conf  # significance\n",
    "\n",
    "    # Quantile of Student's t distribution for p=(1-alpha/2)\n",
    "    t_val = stats.t.ppf(1 - alpha/2, n-n_pms)\n",
    "\n",
    "    # Standard deviation\n",
    "    SSE = np.sum((y - func(x, *pms))**2)\n",
    "    se = np.sqrt(SSE/(n - n_pms))\n",
    "\n",
    "    # Sy\n",
    "    upper = (xx - np.mean(x)) ** 2\n",
    "    lower = np.sum((x - np.mean(x)) ** 2)\n",
    "    Sy = np.sqrt(1/n + upper/lower)*se\n",
    "\n",
    "    # Confidence band\n",
    "    bnd = Sy*t_val\n",
    "\n",
    "    yy = func(xx, *pms)\n",
    "\n",
    "    # Upper & lower prediction bands.\n",
    "    lcb, ucb = yy - bnd, yy + bnd\n",
    "    return lcb, ucb\n",
    "\n",
    "lcb, ucb = conf_band(x, y, px, params, f, conf=0.95)"
   ]
  },
  {
   "attachments": {},
   "cell_type": "markdown",
   "metadata": {},
   "source": [
    "#### Prediction interval\n",
    "Defined by the formula:\n",
    "\n",
    "$$ \\hat{yy_i} \\pm S_{\\hat{yy_i}}*t_{n-n_{pms}, 1 - \\frac{\\alpha}{2}} $$\n",
    "\n",
    "$$ S_{\\hat{yy_i}} = \\left( 1+  \\frac{1}{n} + \\frac{(xx_i - \\bar{x})^2}{\\sum^n _{i=1} (x_i - \\bar{x})^2} \\right)^{0.5} * \\hat{\\sigma}$$\n"
   ]
  },
  {
   "cell_type": "code",
   "execution_count": 7,
   "metadata": {},
   "outputs": [],
   "source": [
    "def pred_band(x, y, xx, pms, func, conf=0.95):\n",
    "    n = x.size          # data sample size\n",
    "    n_pms = len(pms)    # number of parameters\n",
    "    alpha = 1.0 - conf  # significance\n",
    "\n",
    "    # Quantile of Student's t distribution for p=(1-alpha/2)\n",
    "    t_val = stats.t.ppf(1 - alpha/2, n-n_pms)\n",
    "\n",
    "    # Standard deviation\n",
    "    SSE = np.sum((y - func(x, *pms))**2)\n",
    "    se = np.sqrt(SSE/(n - n_pms))\n",
    "    \n",
    "    # Sy\n",
    "    upper = (xx - np.mean(x)) ** 2\n",
    "    lower = np.sum((x - np.mean(x)) ** 2)\n",
    "    Sy = np.sqrt(1+ 1/n + upper/lower)*se\n",
    "\n",
    "    # Confidence band\n",
    "    bnd = Sy*t_val\n",
    "\n",
    "    yy = func(xx, *pms)\n",
    "\n",
    "    # Upper & lower prediction bands.\n",
    "    lpb, upb = yy - bnd, yy + bnd\n",
    "    return lpb, upb\n",
    "lpb, upb = pred_band(x, y, px, params, f, conf=0.95)"
   ]
  },
  {
   "cell_type": "code",
   "execution_count": 8,
   "metadata": {},
   "outputs": [
    {
     "data": {
      "image/png": "[encoded data removed]",
      "text/plain": [
       "<Figure size 432x288 with 1 Axes>"
      ]
     },
     "metadata": {
      "needs_background": "light"
     },
     "output_type": "display_data"
    }
   ],
   "source": [
    "# plot the regression\n",
    "plt.scatter(x, y, s=3, label='Data')\n",
    "plt.plot(px, f(px, *params), c='black', label='y=a x + b')\n",
    "\n",
    "# uncertainty lines (95% confidence)\n",
    "plt.plot(px, lcb, c='orange',\\\n",
    "         label='95% Confidence Region')\n",
    "plt.plot(px, ucb, c='orange')\n",
    "# prediction band (95% confidence)\n",
    "plt.plot(px, lpb, 'k--',label='95% Prediction Band')\n",
    "plt.plot(px, upb, 'k--')\n",
    "plt.ylabel('y')\n",
    "plt.xlabel('x')\n",
    "plt.legend(loc='best')\n",
    "\n",
    "# save and show figure\n",
    "plt.show()"
   ]
  },
  {
   "attachments": {},
   "cell_type": "markdown",
   "metadata": {},
   "source": [
    "#### Non-linear approach\n",
    "\n",
    "$$ y = a*e^{b*x+c} + d $$"
   ]
  },
  {
   "cell_type": "code",
   "execution_count": 9,
   "metadata": {},
   "outputs": [
    {
     "name": "stdout",
     "output_type": "stream",
     "text": [
      "Adjusted parameters\n",
      "a: 1.4034117145227863e-05\n",
      "b: 0.5282491576361579\n",
      "c: -1.87851267816848\n",
      "d: 0.04295811733021374\n",
      "R^2: 0.6188720440602568\n"
     ]
    }
   ],
   "source": [
    "# Curve fitting\n",
    "def f(x, a, b, c, d):\n",
    "    return a * np.exp(b*x + c) + d\n",
    "\n",
    "params, pcov = curve_fit(f, x, y) # Parameters and covariance are computed\n",
    "\n",
    "# Retrieve parameter values\n",
    "a = params[0]\n",
    "b = params[1]\n",
    "c  = params[2]\n",
    "d = params[3]\n",
    "print('Adjusted parameters')\n",
    "print('a: ' + str(a))\n",
    "print('b: ' + str(b))\n",
    "print('c: ' + str(c))\n",
    "print('d: ' + str(d))\n",
    "\n",
    "# Compute R^2\n",
    "y_hat = f(x,*params)\n",
    "SS_res = np.sum((y-y_hat)**2)\n",
    "\n",
    "y_bar = np.mean(y)\n",
    "SS_tot = np.sum((y-y_bar)**2)\n",
    "\n",
    "r2 = 1 - SS_res/SS_tot\n",
    "print('R^2: ' + str(r2))"
   ]
  },
  {
   "cell_type": "code",
   "execution_count": 10,
   "metadata": {},
   "outputs": [
    {
     "data": {
      "image/png": "[encoded data removed]",
      "text/plain": [
       "<Figure size 432x288 with 1 Axes>"
      ]
     },
     "metadata": {
      "needs_background": "light"
     },
     "output_type": "display_data"
    }
   ],
   "source": [
    "px = np.linspace(14, 24, 100)\n",
    "lcb, ucb = conf_band(x, y, px, params, f, conf=0.95)\n",
    "lpb, upb = pred_band(x, y, px, params, f, conf=0.95)\n",
    "\n",
    "# plot the regression\n",
    "plt.scatter(x, y, s=3, label='Data')\n",
    "plt.plot(px, f(px, *params), c='black', label='y=a exp(b*x + c) + d')\n",
    "\n",
    "# uncertainty lines (95% confidence)\n",
    "plt.plot(px, lcb, c='orange',\\\n",
    "         label='95% Confidence Region')\n",
    "plt.plot(px, ucb, c='orange')\n",
    "# prediction band (95% confidence)\n",
    "plt.plot(px, lpb, 'k--',label='95% Prediction Band')\n",
    "plt.plot(px, upb, 'k--')\n",
    "plt.ylabel('y')\n",
    "plt.xlabel('x')\n",
    "plt.legend(loc='best')\n",
    "\n",
    "# save and show figure\n",
    "plt.show()"
   ]
  }
 ],
 "metadata": {
  "kernelspec": {
   "display_name": "base",
   "language": "python",
   "name": "python3"
  },
  "language_info": {
   "codemirror_mode": {
    "name": "ipython",
    "version": 3
   },
   "file_extension": ".py",
   "mimetype": "text/x-python",
   "name": "python",
   "nbconvert_exporter": "python",
   "pygments_lexer": "ipython3",
   "version": "3.9.12"
  },
  "orig_nbformat": 4,
  "vscode": {
   "interpreter": {
    "hash": "20a9e06a1eee47c4abbed4ec8225ad91d78d9800d202b71b6b0a6e47016c6abd"
   }
  }
 },
 "nbformat": 4,
 "nbformat_minor": 2
}
