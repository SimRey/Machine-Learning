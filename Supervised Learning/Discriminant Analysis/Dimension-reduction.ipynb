{
 "cells": [
  {
   "cell_type": "markdown",
   "metadata": {},
   "source": [
    "## <center>LDA dimension reduction</center>\n"
   ]
  },
  {
   "cell_type": "markdown",
   "metadata": {},
   "source": [
    "Besides classifying, LDA enables to perform dimension reduction. LDA tries to reduce dimensions of the feature set while retaining the information that discriminates output classes. LDA tries to find a decision boundary around each cluster of a class. It then projects the data points to new dimensions in a way that the clusters are as separate from each other as possible and the individual elements within a cluster are as close to the centroid of the cluster as possible. The new dimensions are ranked on the basis of their ability to maximize the distance between the clusters and minimize the distance between the data points within a cluster and their centroids. These new dimensions form the linear discriminants of the feature set.\n",
    "\n",
    "It is important to mention, that only LDA can perform this dimension reduction, QDA"
   ]
  },
  {
   "cell_type": "code",
   "execution_count": 1,
   "metadata": {},
   "outputs": [],
   "source": [
    "import numpy as np\n",
    "import pandas as pd\n",
    "import matplotlib.pyplot as plt\n",
    "import seaborn as sns\n",
    "\n",
    "from sklearn.discriminant_analysis import LinearDiscriminantAnalysis\n",
    "from sklearn.metrics import plot_confusion_matrix, classification_report\n",
    "\n",
    "import warnings\n",
    "warnings.filterwarnings(\"ignore\")"
   ]
  },
  {
   "cell_type": "code",
   "execution_count": 2,
   "metadata": {},
   "outputs": [
    {
     "data": {
      "text/html": [
       "<div>\n",
       "<style scoped>\n",
       "    .dataframe tbody tr th:only-of-type {\n",
       "        vertical-align: middle;\n",
       "    }\n",
       "\n",
       "    .dataframe tbody tr th {\n",
       "        vertical-align: top;\n",
       "    }\n",
       "\n",
       "    .dataframe thead th {\n",
       "        text-align: right;\n",
       "    }\n",
       "</style>\n",
       "<table border=\"1\" class=\"dataframe\">\n",
       "  <thead>\n",
       "    <tr style=\"text-align: right;\">\n",
       "      <th></th>\n",
       "      <th>y</th>\n",
       "      <th>x.1</th>\n",
       "      <th>x.2</th>\n",
       "      <th>x.3</th>\n",
       "      <th>x.4</th>\n",
       "      <th>x.5</th>\n",
       "      <th>x.6</th>\n",
       "      <th>x.7</th>\n",
       "      <th>x.8</th>\n",
       "      <th>x.9</th>\n",
       "      <th>x.10</th>\n",
       "    </tr>\n",
       "  </thead>\n",
       "  <tbody>\n",
       "    <tr>\n",
       "      <th>0</th>\n",
       "      <td>1</td>\n",
       "      <td>-3.639</td>\n",
       "      <td>0.418</td>\n",
       "      <td>-0.670</td>\n",
       "      <td>1.779</td>\n",
       "      <td>-0.168</td>\n",
       "      <td>1.627</td>\n",
       "      <td>-0.388</td>\n",
       "      <td>0.529</td>\n",
       "      <td>-0.874</td>\n",
       "      <td>-0.814</td>\n",
       "    </tr>\n",
       "    <tr>\n",
       "      <th>1</th>\n",
       "      <td>2</td>\n",
       "      <td>-3.327</td>\n",
       "      <td>0.496</td>\n",
       "      <td>-0.694</td>\n",
       "      <td>1.365</td>\n",
       "      <td>-0.265</td>\n",
       "      <td>1.933</td>\n",
       "      <td>-0.363</td>\n",
       "      <td>0.510</td>\n",
       "      <td>-0.621</td>\n",
       "      <td>-0.488</td>\n",
       "    </tr>\n",
       "    <tr>\n",
       "      <th>2</th>\n",
       "      <td>3</td>\n",
       "      <td>-2.120</td>\n",
       "      <td>0.894</td>\n",
       "      <td>-1.576</td>\n",
       "      <td>0.147</td>\n",
       "      <td>-0.707</td>\n",
       "      <td>1.559</td>\n",
       "      <td>-0.579</td>\n",
       "      <td>0.676</td>\n",
       "      <td>-0.809</td>\n",
       "      <td>-0.049</td>\n",
       "    </tr>\n",
       "    <tr>\n",
       "      <th>3</th>\n",
       "      <td>4</td>\n",
       "      <td>-2.287</td>\n",
       "      <td>1.809</td>\n",
       "      <td>-1.498</td>\n",
       "      <td>1.012</td>\n",
       "      <td>-1.053</td>\n",
       "      <td>1.060</td>\n",
       "      <td>-0.567</td>\n",
       "      <td>0.235</td>\n",
       "      <td>-0.091</td>\n",
       "      <td>-0.795</td>\n",
       "    </tr>\n",
       "    <tr>\n",
       "      <th>4</th>\n",
       "      <td>5</td>\n",
       "      <td>-2.598</td>\n",
       "      <td>1.938</td>\n",
       "      <td>-0.846</td>\n",
       "      <td>1.062</td>\n",
       "      <td>-1.633</td>\n",
       "      <td>0.764</td>\n",
       "      <td>0.394</td>\n",
       "      <td>-0.150</td>\n",
       "      <td>0.277</td>\n",
       "      <td>-0.396</td>\n",
       "    </tr>\n",
       "  </tbody>\n",
       "</table>\n",
       "</div>"
      ],
      "text/plain": [
       "   y    x.1    x.2    x.3    x.4    x.5    x.6    x.7    x.8    x.9   x.10\n",
       "0  1 -3.639  0.418 -0.670  1.779 -0.168  1.627 -0.388  0.529 -0.874 -0.814\n",
       "1  2 -3.327  0.496 -0.694  1.365 -0.265  1.933 -0.363  0.510 -0.621 -0.488\n",
       "2  3 -2.120  0.894 -1.576  0.147 -0.707  1.559 -0.579  0.676 -0.809 -0.049\n",
       "3  4 -2.287  1.809 -1.498  1.012 -1.053  1.060 -0.567  0.235 -0.091 -0.795\n",
       "4  5 -2.598  1.938 -0.846  1.062 -1.633  0.764  0.394 -0.150  0.277 -0.396"
      ]
     },
     "execution_count": 2,
     "metadata": {},
     "output_type": "execute_result"
    }
   ],
   "source": [
    "dat_train = pd.read_excel('vowels.xlsx', sheet_name=\"Train\")\n",
    "dat_train.drop(columns=\"row.names\", inplace=True)\n",
    "dat_train.head()"
   ]
  },
  {
   "cell_type": "code",
   "execution_count": 3,
   "metadata": {},
   "outputs": [
    {
     "data": {
      "text/html": [
       "<div>\n",
       "<style scoped>\n",
       "    .dataframe tbody tr th:only-of-type {\n",
       "        vertical-align: middle;\n",
       "    }\n",
       "\n",
       "    .dataframe tbody tr th {\n",
       "        vertical-align: top;\n",
       "    }\n",
       "\n",
       "    .dataframe thead th {\n",
       "        text-align: right;\n",
       "    }\n",
       "</style>\n",
       "<table border=\"1\" class=\"dataframe\">\n",
       "  <thead>\n",
       "    <tr style=\"text-align: right;\">\n",
       "      <th></th>\n",
       "      <th>y</th>\n",
       "      <th>x.1</th>\n",
       "      <th>x.2</th>\n",
       "      <th>x.3</th>\n",
       "      <th>x.4</th>\n",
       "      <th>x.5</th>\n",
       "      <th>x.6</th>\n",
       "      <th>x.7</th>\n",
       "      <th>x.8</th>\n",
       "      <th>x.9</th>\n",
       "      <th>x.10</th>\n",
       "    </tr>\n",
       "  </thead>\n",
       "  <tbody>\n",
       "    <tr>\n",
       "      <th>0</th>\n",
       "      <td>1</td>\n",
       "      <td>-1.149</td>\n",
       "      <td>-0.904</td>\n",
       "      <td>-1.988</td>\n",
       "      <td>0.739</td>\n",
       "      <td>-0.060</td>\n",
       "      <td>1.206</td>\n",
       "      <td>0.864</td>\n",
       "      <td>1.196</td>\n",
       "      <td>-0.300</td>\n",
       "      <td>-0.467</td>\n",
       "    </tr>\n",
       "    <tr>\n",
       "      <th>1</th>\n",
       "      <td>2</td>\n",
       "      <td>-2.613</td>\n",
       "      <td>-0.092</td>\n",
       "      <td>-0.540</td>\n",
       "      <td>0.484</td>\n",
       "      <td>0.389</td>\n",
       "      <td>1.741</td>\n",
       "      <td>0.198</td>\n",
       "      <td>0.257</td>\n",
       "      <td>-0.375</td>\n",
       "      <td>-0.604</td>\n",
       "    </tr>\n",
       "    <tr>\n",
       "      <th>2</th>\n",
       "      <td>3</td>\n",
       "      <td>-2.505</td>\n",
       "      <td>0.632</td>\n",
       "      <td>-0.593</td>\n",
       "      <td>0.304</td>\n",
       "      <td>0.496</td>\n",
       "      <td>0.824</td>\n",
       "      <td>-0.162</td>\n",
       "      <td>0.181</td>\n",
       "      <td>-0.363</td>\n",
       "      <td>-0.764</td>\n",
       "    </tr>\n",
       "    <tr>\n",
       "      <th>3</th>\n",
       "      <td>4</td>\n",
       "      <td>-1.768</td>\n",
       "      <td>1.769</td>\n",
       "      <td>-1.142</td>\n",
       "      <td>-0.739</td>\n",
       "      <td>-0.086</td>\n",
       "      <td>0.120</td>\n",
       "      <td>-0.230</td>\n",
       "      <td>0.217</td>\n",
       "      <td>-0.009</td>\n",
       "      <td>-0.279</td>\n",
       "    </tr>\n",
       "    <tr>\n",
       "      <th>4</th>\n",
       "      <td>5</td>\n",
       "      <td>-2.671</td>\n",
       "      <td>3.155</td>\n",
       "      <td>-0.514</td>\n",
       "      <td>0.133</td>\n",
       "      <td>-0.964</td>\n",
       "      <td>0.234</td>\n",
       "      <td>-0.071</td>\n",
       "      <td>1.192</td>\n",
       "      <td>0.254</td>\n",
       "      <td>-0.471</td>\n",
       "    </tr>\n",
       "  </tbody>\n",
       "</table>\n",
       "</div>"
      ],
      "text/plain": [
       "   y    x.1    x.2    x.3    x.4    x.5    x.6    x.7    x.8    x.9   x.10\n",
       "0  1 -1.149 -0.904 -1.988  0.739 -0.060  1.206  0.864  1.196 -0.300 -0.467\n",
       "1  2 -2.613 -0.092 -0.540  0.484  0.389  1.741  0.198  0.257 -0.375 -0.604\n",
       "2  3 -2.505  0.632 -0.593  0.304  0.496  0.824 -0.162  0.181 -0.363 -0.764\n",
       "3  4 -1.768  1.769 -1.142 -0.739 -0.086  0.120 -0.230  0.217 -0.009 -0.279\n",
       "4  5 -2.671  3.155 -0.514  0.133 -0.964  0.234 -0.071  1.192  0.254 -0.471"
      ]
     },
     "execution_count": 3,
     "metadata": {},
     "output_type": "execute_result"
    }
   ],
   "source": [
    "dat_test = pd.read_excel('vowels.xlsx', sheet_name=\"Test\")\n",
    "dat_test.drop(columns=\"row.names\", inplace=True)\n",
    "dat_test.head()"
   ]
  },
  {
   "cell_type": "code",
   "execution_count": 4,
   "metadata": {},
   "outputs": [
    {
     "name": "stdout",
     "output_type": "stream",
     "text": [
      "              precision    recall  f1-score   support\n",
      "\n",
      "           1       0.47      0.67      0.55        42\n",
      "           2       0.39      0.38      0.39        42\n",
      "           3       0.47      0.38      0.42        42\n",
      "           4       0.69      0.79      0.73        42\n",
      "           5       0.28      0.17      0.21        42\n",
      "           6       0.25      0.45      0.32        42\n",
      "           7       0.46      0.26      0.33        42\n",
      "           8       0.70      0.55      0.61        42\n",
      "           9       0.37      0.36      0.36        42\n",
      "          10       0.36      0.31      0.33        42\n",
      "          11       0.52      0.57      0.55        42\n",
      "\n",
      "    accuracy                           0.44       462\n",
      "   macro avg       0.45      0.44      0.44       462\n",
      "weighted avg       0.45      0.44      0.44       462\n",
      "\n"
     ]
    },
    {
     "data": {
      "image/png": "[encoded data removed]",
      "text/plain": [
       "<Figure size 432x288 with 2 Axes>"
      ]
     },
     "metadata": {
      "needs_background": "light"
     },
     "output_type": "display_data"
    }
   ],
   "source": [
    "# Linear Discriminant Analysis\n",
    "lda = LinearDiscriminantAnalysis()\n",
    "lda.fit(dat_train.drop('y', axis=1), dat_train['y'])\n",
    "\n",
    "y_pred = lda.predict(dat_test.drop('y', axis=1))\n",
    "\n",
    "plot_confusion_matrix(lda, dat_test.drop('y', axis=1), dat_test['y'])\n",
    "print(classification_report(dat_test['y'],y_pred))"
   ]
  },
  {
   "cell_type": "code",
   "execution_count": 5,
   "metadata": {},
   "outputs": [
    {
     "name": "stdout",
     "output_type": "stream",
     "text": [
      "              precision    recall  f1-score   support\n",
      "\n",
      "           1       0.55      0.67      0.60        42\n",
      "           2       0.36      0.38      0.37        42\n",
      "           3       0.79      0.26      0.39        42\n",
      "           4       0.63      0.64      0.64        42\n",
      "           5       0.73      0.45      0.56        42\n",
      "           6       0.32      0.38      0.35        42\n",
      "           7       0.54      0.62      0.58        42\n",
      "           8       0.62      0.62      0.62        42\n",
      "           9       0.51      0.50      0.51        42\n",
      "          10       0.52      0.31      0.39        42\n",
      "          11       0.41      0.76      0.53        42\n",
      "\n",
      "    accuracy                           0.51       462\n",
      "   macro avg       0.54      0.51      0.50       462\n",
      "weighted avg       0.54      0.51      0.50       462\n",
      "\n"
     ]
    },
    {
     "data": {
      "image/png": "[encoded data removed]",
      "text/plain": [
       "<Figure size 432x288 with 2 Axes>"
      ]
     },
     "metadata": {
      "needs_background": "light"
     },
     "output_type": "display_data"
    }
   ],
   "source": [
    "# Linear Discriminant Analysis\n",
    "lda_dimen = LinearDiscriminantAnalysis(n_components=2)\n",
    "\n",
    "y_train = dat_train['y']\n",
    "y_test = dat_test['y']\n",
    "\n",
    "X_train = lda_dimen.fit_transform(dat_train.drop('y', axis=1), y_train)\n",
    "X_test = lda_dimen.transform(dat_test.drop('y', axis=1))\n",
    "\n",
    "\n",
    "\n",
    "lda = LinearDiscriminantAnalysis()\n",
    "\n",
    "\n",
    "lda.fit(X_train, y_train)\n",
    "\n",
    "y_pred = lda.predict(X_test)\n",
    "\n",
    "plot_confusion_matrix(lda, X_test, y_test)\n",
    "print(classification_report(y_test,y_pred))"
   ]
  }
 ],
 "metadata": {
  "kernelspec": {
   "display_name": "Python 3.9.12 ('base')",
   "language": "python",
   "name": "python3"
  },
  "language_info": {
   "codemirror_mode": {
    "name": "ipython",
    "version": 3
   },
   "file_extension": ".py",
   "mimetype": "text/x-python",
   "name": "python",
   "nbconvert_exporter": "python",
   "pygments_lexer": "ipython3",
   "version": "3.9.12"
  },
  "orig_nbformat": 4,
  "vscode": {
   "interpreter": {
    "hash": "20a9e06a1eee47c4abbed4ec8225ad91d78d9800d202b71b6b0a6e47016c6abd"
   }
  }
 },
 "nbformat": 4,
 "nbformat_minor": 2
}
