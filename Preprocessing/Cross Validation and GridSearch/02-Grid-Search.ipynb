{
 "cells": [
  {
   "cell_type": "markdown",
   "metadata": {},
   "source": [
    "## <center>Grid Search</center> \n",
    "\n",
    "We can search through a variety of combinations of hyperparameters with a grid search. While many linear models are quite simple and even come with their own specialized versions that do a search for you, this method of a grid search will can be applied to *any* model from sklearn, and we will need to use it later on for more complex models, such as Support Vector Machines."
   ]
  },
  {
   "cell_type": "code",
   "execution_count": 1,
   "metadata": {},
   "outputs": [],
   "source": [
    "import numpy as np\n",
    "import pandas as pd\n",
    "import matplotlib.pyplot as plt\n",
    "import seaborn as sns\n",
    "\n",
    "from sklearn.model_selection import train_test_split\n",
    "from sklearn.preprocessing import StandardScaler\n",
    "from sklearn.linear_model import ElasticNet\n",
    "from sklearn.metrics import mean_squared_error\n",
    "\n",
    "from sklearn.model_selection import GridSearchCV"
   ]
  },
  {
   "cell_type": "code",
   "execution_count": 2,
   "metadata": {},
   "outputs": [
    {
     "data": {
      "text/html": [
       "<div>\n",
       "<style scoped>\n",
       "    .dataframe tbody tr th:only-of-type {\n",
       "        vertical-align: middle;\n",
       "    }\n",
       "\n",
       "    .dataframe tbody tr th {\n",
       "        vertical-align: top;\n",
       "    }\n",
       "\n",
       "    .dataframe thead th {\n",
       "        text-align: right;\n",
       "    }\n",
       "</style>\n",
       "<table border=\"1\" class=\"dataframe\">\n",
       "  <thead>\n",
       "    <tr style=\"text-align: right;\">\n",
       "      <th></th>\n",
       "      <th>TV</th>\n",
       "      <th>radio</th>\n",
       "      <th>newspaper</th>\n",
       "      <th>sales</th>\n",
       "    </tr>\n",
       "  </thead>\n",
       "  <tbody>\n",
       "    <tr>\n",
       "      <th>0</th>\n",
       "      <td>230.1</td>\n",
       "      <td>37.8</td>\n",
       "      <td>69.2</td>\n",
       "      <td>22.1</td>\n",
       "    </tr>\n",
       "    <tr>\n",
       "      <th>1</th>\n",
       "      <td>44.5</td>\n",
       "      <td>39.3</td>\n",
       "      <td>45.1</td>\n",
       "      <td>10.4</td>\n",
       "    </tr>\n",
       "    <tr>\n",
       "      <th>2</th>\n",
       "      <td>17.2</td>\n",
       "      <td>45.9</td>\n",
       "      <td>69.3</td>\n",
       "      <td>9.3</td>\n",
       "    </tr>\n",
       "    <tr>\n",
       "      <th>3</th>\n",
       "      <td>151.5</td>\n",
       "      <td>41.3</td>\n",
       "      <td>58.5</td>\n",
       "      <td>18.5</td>\n",
       "    </tr>\n",
       "    <tr>\n",
       "      <th>4</th>\n",
       "      <td>180.8</td>\n",
       "      <td>10.8</td>\n",
       "      <td>58.4</td>\n",
       "      <td>12.9</td>\n",
       "    </tr>\n",
       "  </tbody>\n",
       "</table>\n",
       "</div>"
      ],
      "text/plain": [
       "      TV  radio  newspaper  sales\n",
       "0  230.1   37.8       69.2   22.1\n",
       "1   44.5   39.3       45.1   10.4\n",
       "2   17.2   45.9       69.3    9.3\n",
       "3  151.5   41.3       58.5   18.5\n",
       "4  180.8   10.8       58.4   12.9"
      ]
     },
     "execution_count": 2,
     "metadata": {},
     "output_type": "execute_result"
    }
   ],
   "source": [
    "df = pd.read_csv(\"Advertising.csv\")\n",
    "df.head()"
   ]
  },
  {
   "cell_type": "markdown",
   "metadata": {},
   "source": [
    "### Formatting Data"
   ]
  },
  {
   "cell_type": "code",
   "execution_count": 3,
   "metadata": {},
   "outputs": [],
   "source": [
    "X = df.drop('sales',axis=1)\n",
    "y = df['sales']\n",
    "\n",
    "\n",
    "X_train, X_test, y_train, y_test = train_test_split(X, y, test_size=0.3, random_state=101)\n",
    "\n",
    "\n",
    "scaler = StandardScaler()\n",
    "scaler.fit(X_train)\n",
    "X_train = scaler.transform(X_train)\n",
    "X_test = scaler.transform(X_test)"
   ]
  },
  {
   "cell_type": "code",
   "execution_count": 4,
   "metadata": {},
   "outputs": [],
   "source": [
    "# Model\n",
    "\n",
    "base_elastic_model = ElasticNet()"
   ]
  },
  {
   "cell_type": "markdown",
   "metadata": {},
   "source": [
    "### Grid Search\n",
    "\n",
    "A search consists of:\n",
    "\n",
    "* An estimator (regressor or classifier such as sklearn.svm.SVC());\n",
    "* A parameter space;\n",
    "* A method for searching or sampling candidates;\n",
    "* A cross-validation scheme \n",
    "* A score function."
   ]
  },
  {
   "cell_type": "code",
   "execution_count": 5,
   "metadata": {},
   "outputs": [],
   "source": [
    "param_grid = {'alpha':[0.1,1,5,10,50,100],\n",
    "              'l1_ratio':[.1, .5, .7, .9, .95, .99, 1]}"
   ]
  },
  {
   "cell_type": "code",
   "execution_count": 6,
   "metadata": {},
   "outputs": [],
   "source": [
    "# verbose number a personal preference\n",
    "\n",
    "grid_model = GridSearchCV(estimator=base_elastic_model,\n",
    "                          param_grid=param_grid,\n",
    "                          scoring='neg_mean_squared_error',\n",
    "                          cv=5,\n",
    "                          verbose=0)  # verbose gives info, if 0 --> basic info\n",
    "                                      # verbose 2 gives info about each iteration"
   ]
  },
  {
   "cell_type": "code",
   "execution_count": 7,
   "metadata": {},
   "outputs": [
    {
     "data": {
      "text/plain": [
       "GridSearchCV(cv=5, estimator=ElasticNet(),\n",
       "             param_grid={'alpha': [0.1, 1, 5, 10, 50, 100],\n",
       "                         'l1_ratio': [0.1, 0.5, 0.7, 0.9, 0.95, 0.99, 1]},\n",
       "             scoring='neg_mean_squared_error')"
      ]
     },
     "execution_count": 7,
     "metadata": {},
     "output_type": "execute_result"
    }
   ],
   "source": [
    "grid_model.fit(X_train,y_train)"
   ]
  },
  {
   "cell_type": "code",
   "execution_count": 8,
   "metadata": {},
   "outputs": [
    {
     "data": {
      "text/plain": [
       "{'mean_fit_time': array([0.0032021 , 0.        , 0.00010695, 0.00160699, 0.00159998,\n",
       "        0.        , 0.00165739, 0.0016469 , 0.        , 0.00160704,\n",
       "        0.        , 0.00320449, 0.00162106, 0.00166717, 0.        ,\n",
       "        0.        , 0.00159945, 0.00159979, 0.        , 0.        ,\n",
       "        0.        , 0.        , 0.00010977, 0.        , 0.00163617,\n",
       "        0.00159602, 0.00160136, 0.        , 0.        , 0.        ,\n",
       "        0.        , 0.00160432, 0.        , 0.        , 0.        ,\n",
       "        0.00160141, 0.        , 0.        , 0.        , 0.00160151,\n",
       "        0.00082059, 0.        ]),\n",
       " 'std_fit_time': array([0.00392176, 0.        , 0.00021391, 0.00321398, 0.00319996,\n",
       "        0.        , 0.00331478, 0.0032938 , 0.        , 0.00321407,\n",
       "        0.        , 0.00392469, 0.00324211, 0.00333433, 0.        ,\n",
       "        0.        , 0.00319891, 0.00319958, 0.        , 0.        ,\n",
       "        0.        , 0.        , 0.00021954, 0.        , 0.00327234,\n",
       "        0.00319204, 0.00320272, 0.        , 0.        , 0.        ,\n",
       "        0.        , 0.00320864, 0.        , 0.        , 0.        ,\n",
       "        0.00320282, 0.        , 0.        , 0.        , 0.00320301,\n",
       "        0.00164118, 0.        ]),\n",
       " 'mean_score_time': array([0.        , 0.        , 0.        , 0.        , 0.        ,\n",
       "        0.        , 0.00165138, 0.        , 0.        , 0.        ,\n",
       "        0.0020648 , 0.        , 0.        , 0.        , 0.        ,\n",
       "        0.        , 0.        , 0.        , 0.00160308, 0.        ,\n",
       "        0.        , 0.00160041, 0.        , 0.        , 0.        ,\n",
       "        0.        , 0.        , 0.        , 0.        , 0.        ,\n",
       "        0.        , 0.        , 0.        , 0.00160623, 0.        ,\n",
       "        0.        , 0.        , 0.        , 0.00161276, 0.        ,\n",
       "        0.        , 0.        ]),\n",
       " 'std_score_time': array([0.        , 0.        , 0.        , 0.        , 0.        ,\n",
       "        0.        , 0.00330276, 0.        , 0.        , 0.        ,\n",
       "        0.00310141, 0.        , 0.        , 0.        , 0.        ,\n",
       "        0.        , 0.        , 0.        , 0.00320616, 0.        ,\n",
       "        0.        , 0.00320082, 0.        , 0.        , 0.        ,\n",
       "        0.        , 0.        , 0.        , 0.        , 0.        ,\n",
       "        0.        , 0.        , 0.        , 0.00321245, 0.        ,\n",
       "        0.        , 0.        , 0.        , 0.00322552, 0.        ,\n",
       "        0.        , 0.        ]),\n",
       " 'param_alpha': masked_array(data=[0.1, 0.1, 0.1, 0.1, 0.1, 0.1, 0.1, 1, 1, 1, 1, 1, 1, 1,\n",
       "                    5, 5, 5, 5, 5, 5, 5, 10, 10, 10, 10, 10, 10, 10, 50,\n",
       "                    50, 50, 50, 50, 50, 50, 100, 100, 100, 100, 100, 100,\n",
       "                    100],\n",
       "              mask=[False, False, False, False, False, False, False, False,\n",
       "                    False, False, False, False, False, False, False, False,\n",
       "                    False, False, False, False, False, False, False, False,\n",
       "                    False, False, False, False, False, False, False, False,\n",
       "                    False, False, False, False, False, False, False, False,\n",
       "                    False, False],\n",
       "        fill_value='?',\n",
       "             dtype=object),\n",
       " 'param_l1_ratio': masked_array(data=[0.1, 0.5, 0.7, 0.9, 0.95, 0.99, 1, 0.1, 0.5, 0.7, 0.9,\n",
       "                    0.95, 0.99, 1, 0.1, 0.5, 0.7, 0.9, 0.95, 0.99, 1, 0.1,\n",
       "                    0.5, 0.7, 0.9, 0.95, 0.99, 1, 0.1, 0.5, 0.7, 0.9, 0.95,\n",
       "                    0.99, 1, 0.1, 0.5, 0.7, 0.9, 0.95, 0.99, 1],\n",
       "              mask=[False, False, False, False, False, False, False, False,\n",
       "                    False, False, False, False, False, False, False, False,\n",
       "                    False, False, False, False, False, False, False, False,\n",
       "                    False, False, False, False, False, False, False, False,\n",
       "                    False, False, False, False, False, False, False, False,\n",
       "                    False, False],\n",
       "        fill_value='?',\n",
       "             dtype=object),\n",
       " 'params': [{'alpha': 0.1, 'l1_ratio': 0.1},\n",
       "  {'alpha': 0.1, 'l1_ratio': 0.5},\n",
       "  {'alpha': 0.1, 'l1_ratio': 0.7},\n",
       "  {'alpha': 0.1, 'l1_ratio': 0.9},\n",
       "  {'alpha': 0.1, 'l1_ratio': 0.95},\n",
       "  {'alpha': 0.1, 'l1_ratio': 0.99},\n",
       "  {'alpha': 0.1, 'l1_ratio': 1},\n",
       "  {'alpha': 1, 'l1_ratio': 0.1},\n",
       "  {'alpha': 1, 'l1_ratio': 0.5},\n",
       "  {'alpha': 1, 'l1_ratio': 0.7},\n",
       "  {'alpha': 1, 'l1_ratio': 0.9},\n",
       "  {'alpha': 1, 'l1_ratio': 0.95},\n",
       "  {'alpha': 1, 'l1_ratio': 0.99},\n",
       "  {'alpha': 1, 'l1_ratio': 1},\n",
       "  {'alpha': 5, 'l1_ratio': 0.1},\n",
       "  {'alpha': 5, 'l1_ratio': 0.5},\n",
       "  {'alpha': 5, 'l1_ratio': 0.7},\n",
       "  {'alpha': 5, 'l1_ratio': 0.9},\n",
       "  {'alpha': 5, 'l1_ratio': 0.95},\n",
       "  {'alpha': 5, 'l1_ratio': 0.99},\n",
       "  {'alpha': 5, 'l1_ratio': 1},\n",
       "  {'alpha': 10, 'l1_ratio': 0.1},\n",
       "  {'alpha': 10, 'l1_ratio': 0.5},\n",
       "  {'alpha': 10, 'l1_ratio': 0.7},\n",
       "  {'alpha': 10, 'l1_ratio': 0.9},\n",
       "  {'alpha': 10, 'l1_ratio': 0.95},\n",
       "  {'alpha': 10, 'l1_ratio': 0.99},\n",
       "  {'alpha': 10, 'l1_ratio': 1},\n",
       "  {'alpha': 50, 'l1_ratio': 0.1},\n",
       "  {'alpha': 50, 'l1_ratio': 0.5},\n",
       "  {'alpha': 50, 'l1_ratio': 0.7},\n",
       "  {'alpha': 50, 'l1_ratio': 0.9},\n",
       "  {'alpha': 50, 'l1_ratio': 0.95},\n",
       "  {'alpha': 50, 'l1_ratio': 0.99},\n",
       "  {'alpha': 50, 'l1_ratio': 1},\n",
       "  {'alpha': 100, 'l1_ratio': 0.1},\n",
       "  {'alpha': 100, 'l1_ratio': 0.5},\n",
       "  {'alpha': 100, 'l1_ratio': 0.7},\n",
       "  {'alpha': 100, 'l1_ratio': 0.9},\n",
       "  {'alpha': 100, 'l1_ratio': 0.95},\n",
       "  {'alpha': 100, 'l1_ratio': 0.99},\n",
       "  {'alpha': 100, 'l1_ratio': 1}],\n",
       " 'split0_test_score': array([ -3.45302084,  -3.32543978,  -3.26988015,  -3.22139663,\n",
       "         -3.21305234,  -3.20812418,  -3.20694314,  -9.82747531,\n",
       "         -8.70707114,  -7.92086988,  -6.98385472,  -6.72943525,\n",
       "         -6.52134437,  -6.46880733, -22.97926512, -27.79348798,\n",
       "        -29.65550965, -31.13030692, -31.13030692, -31.13030692,\n",
       "        -31.13030692, -27.38534621, -31.13030692, -31.13030692,\n",
       "        -31.13030692, -31.13030692, -31.13030692, -31.13030692,\n",
       "        -31.13030692, -31.13030692, -31.13030692, -31.13030692,\n",
       "        -31.13030692, -31.13030692, -31.13030692, -31.13030692,\n",
       "        -31.13030692, -31.13030692, -31.13030692, -31.13030692,\n",
       "        -31.13030692, -31.13030692]),\n",
       " 'split1_test_score': array([ -1.40519031,  -1.42752204,  -1.44243242,  -1.46533869,\n",
       "         -1.47241701,  -1.47848929,  -1.48006527,  -5.26152539,\n",
       "         -4.2142284 ,  -3.54956183,  -2.79035548,  -2.59128522,\n",
       "         -2.4313846 ,  -2.39148256, -15.54710357, -18.60226868,\n",
       "        -21.08505942, -22.5494332 , -22.5494332 , -22.5494332 ,\n",
       "        -22.5494332 , -19.15953413, -22.5494332 , -22.5494332 ,\n",
       "        -22.5494332 , -22.5494332 , -22.5494332 , -22.5494332 ,\n",
       "        -22.5494332 , -22.5494332 , -22.5494332 , -22.5494332 ,\n",
       "        -22.5494332 , -22.5494332 , -22.5494332 , -22.5494332 ,\n",
       "        -22.5494332 , -22.5494332 , -22.5494332 , -22.5494332 ,\n",
       "        -22.5494332 , -22.5494332 ]),\n",
       " 'split2_test_score': array([ -5.78912486,  -5.59560964,  -5.50243731,  -5.41644694,\n",
       "         -5.39625768,  -5.38024154,  -5.3762568 , -11.87534671,\n",
       "        -10.87926082, -10.02487666,  -8.99710816,  -8.7098418 ,\n",
       "         -8.47108601,  -8.410171  , -23.66824886, -27.1078486 ,\n",
       "        -29.62947804, -31.15520408, -31.15520408, -31.15520408,\n",
       "        -31.15520408, -27.63546439, -31.15520408, -31.15520408,\n",
       "        -31.15520408, -31.15520408, -31.15520408, -31.15520408,\n",
       "        -31.15520408, -31.15520408, -31.15520408, -31.15520408,\n",
       "        -31.15520408, -31.15520408, -31.15520408, -31.15520408,\n",
       "        -31.15520408, -31.15520408, -31.15520408, -31.15520408,\n",
       "        -31.15520408, -31.15520408]),\n",
       " 'split3_test_score': array([ -2.18730248,  -2.16308873,  -2.16395003,  -2.1734932 ,\n",
       "         -2.17745178,  -2.18109704,  -2.18207608,  -7.44919523,\n",
       "         -6.20454503,  -5.37955333,  -4.41492762,  -4.15631737,\n",
       "         -3.9463265 ,  -3.8935656 , -19.92106289, -23.94522746,\n",
       "        -26.72459503, -27.96344707, -27.96344707, -27.96344707,\n",
       "        -27.96344707, -24.15410359, -27.96344707, -27.96344707,\n",
       "        -27.96344707, -27.96344707, -27.96344707, -27.96344707,\n",
       "        -27.96344707, -27.96344707, -27.96344707, -27.96344707,\n",
       "        -27.96344707, -27.96344707, -27.96344707, -27.96344707,\n",
       "        -27.96344707, -27.96344707, -27.96344707, -27.96344707,\n",
       "        -27.96344707, -27.96344707]),\n",
       " 'split4_test_score': array([ -4.64557625,  -4.45167948,  -4.3567377 ,  -4.26388654,\n",
       "         -4.24107995,  -4.22296809,  -4.2184595 ,  -8.54232854,\n",
       "         -7.17303106,  -6.3248362 ,  -5.5457694 ,  -5.32991608,\n",
       "         -5.15134446,  -5.10592176, -16.26273734, -18.06463498,\n",
       "        -20.22365404, -21.69819196, -21.69819196, -21.69819196,\n",
       "        -21.69819196, -18.96816086, -21.69819196, -21.69819196,\n",
       "        -21.69819196, -21.69819196, -21.69819196, -21.69819196,\n",
       "        -21.69819196, -21.69819196, -21.69819196, -21.69819196,\n",
       "        -21.69819196, -21.69819196, -21.69819196, -21.69819196,\n",
       "        -21.69819196, -21.69819196, -21.69819196, -21.69819196,\n",
       "        -21.69819196, -21.69819196]),\n",
       " 'mean_test_score': array([ -3.49604295,  -3.39266793,  -3.34708752,  -3.3081124 ,\n",
       "         -3.30005175,  -3.29418403,  -3.29276016,  -8.59117424,\n",
       "         -7.43562729,  -6.63993958,  -5.74640308,  -5.50335914,\n",
       "         -5.30429719,  -5.25398965, -19.67568356, -23.10269354,\n",
       "        -25.46365924, -26.89931665, -26.89931665, -26.89931665,\n",
       "        -26.89931665, -23.46052183, -26.89931665, -26.89931665,\n",
       "        -26.89931665, -26.89931665, -26.89931665, -26.89931665,\n",
       "        -26.89931665, -26.89931665, -26.89931665, -26.89931665,\n",
       "        -26.89931665, -26.89931665, -26.89931665, -26.89931665,\n",
       "        -26.89931665, -26.89931665, -26.89931665, -26.89931665,\n",
       "        -26.89931665, -26.89931665]),\n",
       " 'std_test_score': array([1.591601  , 1.50682717, 1.46276536, 1.41769348, 1.40624761,\n",
       "        1.39695326, 1.39461278, 2.22293916, 2.25553153, 2.20621303,\n",
       "        2.12836408, 2.10283486, 2.07994524, 2.07383159, 3.33490073,\n",
       "        4.10829748, 4.07787705, 4.07723961, 4.07723961, 4.07723961,\n",
       "        4.07723961, 3.79460801, 4.07723961, 4.07723961, 4.07723961,\n",
       "        4.07723961, 4.07723961, 4.07723961, 4.07723961, 4.07723961,\n",
       "        4.07723961, 4.07723961, 4.07723961, 4.07723961, 4.07723961,\n",
       "        4.07723961, 4.07723961, 4.07723961, 4.07723961, 4.07723961,\n",
       "        4.07723961, 4.07723961]),\n",
       " 'rank_test_score': array([ 7,  6,  5,  4,  3,  2,  1, 14, 13, 12, 11, 10,  9,  8, 15, 16, 18,\n",
       "        19, 19, 19, 19, 17, 19, 19, 19, 19, 19, 19, 19, 19, 19, 19, 19, 19,\n",
       "        19, 19, 19, 19, 19, 19, 19, 19])}"
      ]
     },
     "execution_count": 8,
     "metadata": {},
     "output_type": "execute_result"
    }
   ],
   "source": [
    "grid_model.cv_results_"
   ]
  },
  {
   "cell_type": "code",
   "execution_count": 9,
   "metadata": {},
   "outputs": [
    {
     "data": {
      "text/plain": [
       "ElasticNet(alpha=0.1, l1_ratio=1)"
      ]
     },
     "execution_count": 9,
     "metadata": {},
     "output_type": "execute_result"
    }
   ],
   "source": [
    "grid_model.best_estimator_"
   ]
  },
  {
   "cell_type": "code",
   "execution_count": 10,
   "metadata": {},
   "outputs": [
    {
     "data": {
      "text/plain": [
       "{'alpha': 0.1, 'l1_ratio': 1}"
      ]
     },
     "execution_count": 10,
     "metadata": {},
     "output_type": "execute_result"
    }
   ],
   "source": [
    "grid_model.best_params_"
   ]
  },
  {
   "cell_type": "markdown",
   "metadata": {},
   "source": [
    "#### Using Best Model From Grid Search"
   ]
  },
  {
   "cell_type": "code",
   "execution_count": 11,
   "metadata": {},
   "outputs": [],
   "source": [
    "y_pred = grid_model.predict(X_test)"
   ]
  },
  {
   "cell_type": "code",
   "execution_count": 12,
   "metadata": {},
   "outputs": [
    {
     "data": {
      "text/plain": [
       "2.3873426420874737"
      ]
     },
     "execution_count": 12,
     "metadata": {},
     "output_type": "execute_result"
    }
   ],
   "source": [
    "mean_squared_error(y_test,y_pred)"
   ]
  }
 ],
 "metadata": {
  "kernelspec": {
   "display_name": "Python 3.9.12 ('base')",
   "language": "python",
   "name": "python3"
  },
  "language_info": {
   "codemirror_mode": {
    "name": "ipython",
    "version": 3
   },
   "file_extension": ".py",
   "mimetype": "text/x-python",
   "name": "python",
   "nbconvert_exporter": "python",
   "pygments_lexer": "ipython3",
   "version": "3.9.12"
  },
  "vscode": {
   "interpreter": {
    "hash": "20a9e06a1eee47c4abbed4ec8225ad91d78d9800d202b71b6b0a6e47016c6abd"
   }
  }
 },
 "nbformat": 4,
 "nbformat_minor": 2
}
