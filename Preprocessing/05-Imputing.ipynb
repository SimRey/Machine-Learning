{
 "cells": [
  {
   "cell_type": "markdown",
   "metadata": {},
   "source": [
    "## <center>Imputation</center>"
   ]
  },
  {
   "cell_type": "markdown",
   "metadata": {},
   "source": [
    "Datasets may have missing values, and this can cause problems for many machine learning algorithms. As such, it is good practice to identify and replace missing values for each column in your input data prior to modeling your prediction task. This is called missing data imputation, or imputing for short.\n",
    "\n",
    "A popular approach for data imputation is to calculate a statistical value for each column (such as a mean) and replace all missing values for that column with the statistic. It is a popular approach because the statistic is easy to calculate using the training dataset and because it often results in good performance.\n",
    "\n",
    "In this lecture we will review 3 types of imputers:\n",
    "\n",
    "1. Simple Imputer: the missing values are substituted by user imputed values, these values can be the overall mean of the feature, a specific value, and others. It’s important to highlight that this value is hardcoded by the user o simply calculated with information from the feature.used for order data, where each unique label is mapped to an integer.\n",
    "2. Middle imputation:  the missing values are substituted using the relationship with other features, divide the feature in different groups, and from these groups calculate the statistical values, such as mean, etc.. for these cases the pandas function .transform is used\n",
    "3. Iterative Imputer: this is an advanced imputer type uses ML models to predict the missing data\n",
    "\n"
   ]
  },
  {
   "cell_type": "markdown",
   "metadata": {},
   "source": [
    "### Simple Imputer\n",
    "\n",
    "The most important parameter to take into account is *strategy*, which by default is mean but can take the following arguments:\n",
    "\n",
    "- “mean”, then replace missing values using the mean along each column. Can only be used with numeric data.\n",
    "- “median”, then replace missing values using the median along each column. Can only be used with numeric data.\n",
    "- “most_frequent”, then replace missing using the most frequent value along each column. Can be used with strings or numeric data. If there is more than one such value, only the smallest is returned.\n",
    "- “constant”, then replace missing values with fill_value. Can be used with strings or numeric data."
   ]
  },
  {
   "cell_type": "code",
   "execution_count": null,
   "metadata": {},
   "outputs": [],
   "source": []
  }
 ],
 "metadata": {
  "kernelspec": {
   "display_name": "Python 3.9.12 ('base')",
   "language": "python",
   "name": "python3"
  },
  "language_info": {
   "name": "python",
   "version": "3.9.12"
  },
  "orig_nbformat": 4,
  "vscode": {
   "interpreter": {
    "hash": "20a9e06a1eee47c4abbed4ec8225ad91d78d9800d202b71b6b0a6e47016c6abd"
   }
  }
 },
 "nbformat": 4,
 "nbformat_minor": 2
}
