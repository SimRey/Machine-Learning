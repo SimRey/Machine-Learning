{
 "cells": [
  {
   "cell_type": "markdown",
   "metadata": {},
   "source": [
    "### Standarization"
   ]
  },
  {
   "cell_type": "markdown",
   "metadata": {},
   "source": [
    "Standardization or Z-Score Normalization is the transformation of features by subtracting from mean and dividing by standard deviation. This is often called as Z-score. Standardization can be helpful in cases where the data follows a Gaussian distribution. However, this does not have to be necessarily true. Geometrically speaking, it translates the data to the mean vector of original data to the origin and squishes or expands the points if std is 1 respectively. We can see that we are just changing mean and standard deviation to a standard normal distribution which is still normal thus the shape of the distribution is not affected.\n",
    "Standardization does not get affected by outliers because there is no predefined range of transformed features.\n",
    "\n",
    "Formula for standarization:\n",
    "\n",
    "$ x_{std} = \\frac{x - \\mu}{\\sigma} $"
   ]
  },
  {
   "cell_type": "code",
   "execution_count": 1,
   "metadata": {},
   "outputs": [
    {
     "name": "stdout",
     "output_type": "stream",
     "text": [
      "[2.0e+05 2.5e+00]\n",
      "[8.75e+09 1.25e+00]\n"
     ]
    }
   ],
   "source": [
    "import numpy as np\n",
    "from sklearn import preprocessing\n",
    "\n",
    "\n",
    "def standarizer(X):\n",
    "\n",
    "    scaler = preprocessing.StandardScaler().fit(X)\n",
    "    scaled = scaler.transform(X)\n",
    "    mean = scaler.mean_ # Gets the mean\n",
    "    varia = scaler.var_ # Gets the variance\n",
    "\n",
    "    return scaled, mean, varia\n",
    "\n",
    "\n",
    "\n",
    "scaled, mean, varia = standarizer(np.array([[100000, 150000, 350000, 200000], [1, 2, 3, 4]]).T)\n",
    "print(mean)\n",
    "print(varia)"
   ]
  },
  {
   "cell_type": "code",
   "execution_count": 2,
   "metadata": {},
   "outputs": [
    {
     "name": "stdout",
     "output_type": "stream",
     "text": [
      "[[-1.06904497 -1.34164079]\n",
      " [-0.53452248 -0.4472136 ]\n",
      " [ 1.60356745  0.4472136 ]\n",
      " [ 0.          1.34164079]]\n",
      "0.0\n",
      "1.0\n"
     ]
    }
   ],
   "source": [
    "print(scaled)\n",
    "print(np.mean(scaled))\n",
    "print(np.std(scaled))\n"
   ]
  },
  {
   "cell_type": "markdown",
   "metadata": {},
   "source": [
    "In standarization, the mean will be zero and the standard deviation 1"
   ]
  },
  {
   "cell_type": "markdown",
   "metadata": {},
   "source": [
    "When working with sparse matrices, matrices with more than 50% of its content is zero, it's important to make some adjustments."
   ]
  },
  {
   "cell_type": "code",
   "execution_count": 3,
   "metadata": {},
   "outputs": [
    {
     "data": {
      "text/plain": [
       "55.55555555555556"
      ]
     },
     "execution_count": 3,
     "metadata": {},
     "output_type": "execute_result"
    }
   ],
   "source": [
    "sparse_mat = np.array([[1, 0, 0],\n",
    "                       [0, 5, 6],\n",
    "                       [0, 0, 7]])\n",
    "\n",
    "def counting_zeros(mat):\n",
    "    tot = mat.shape[0]*mat.shape[1]\n",
    "    n = 0\n",
    "\n",
    "    for i in range(mat.shape[0]):\n",
    "        for j in range(mat.shape[1]):\n",
    "            val = mat[i, j]\n",
    "\n",
    "            if val == 0:\n",
    "                n += 1\n",
    "            else:\n",
    "                continue\n",
    "        \n",
    "\n",
    "    return (n/tot)*100\n",
    "\n",
    "counting_zeros(sparse_mat)\n"
   ]
  },
  {
   "cell_type": "code",
   "execution_count": 4,
   "metadata": {},
   "outputs": [
    {
     "data": {
      "text/plain": [
       "array([[ 1.41421356, -0.70710678, -1.40182605],\n",
       "       [-0.70710678,  1.41421356,  0.53916387],\n",
       "       [-0.70710678, -0.70710678,  0.86266219]])"
      ]
     },
     "execution_count": 4,
     "metadata": {},
     "output_type": "execute_result"
    }
   ],
   "source": [
    "s, a, b = standarizer(sparse_mat)\n",
    "s # Wrong"
   ]
  },
  {
   "cell_type": "code",
   "execution_count": 5,
   "metadata": {},
   "outputs": [
    {
     "data": {
      "text/plain": [
       "array([[2.12132034, 0.        , 0.        ],\n",
       "       [0.        , 2.12132034, 1.94098992],\n",
       "       [0.        , 0.        , 2.26448824]])"
      ]
     },
     "execution_count": 5,
     "metadata": {},
     "output_type": "execute_result"
    }
   ],
   "source": [
    "preprocessing.StandardScaler(with_mean=False).fit_transform(sparse_mat)"
   ]
  }
 ],
 "metadata": {
  "kernelspec": {
   "display_name": "Python 3.9.7 ('base')",
   "language": "python",
   "name": "python3"
  },
  "language_info": {
   "codemirror_mode": {
    "name": "ipython",
    "version": 3
   },
   "file_extension": ".py",
   "mimetype": "text/x-python",
   "name": "python",
   "nbconvert_exporter": "python",
   "pygments_lexer": "ipython3",
   "version": "3.9.7"
  },
  "orig_nbformat": 4,
  "vscode": {
   "interpreter": {
    "hash": "20a9e06a1eee47c4abbed4ec8225ad91d78d9800d202b71b6b0a6e47016c6abd"
   }
  }
 },
 "nbformat": 4,
 "nbformat_minor": 2
}
