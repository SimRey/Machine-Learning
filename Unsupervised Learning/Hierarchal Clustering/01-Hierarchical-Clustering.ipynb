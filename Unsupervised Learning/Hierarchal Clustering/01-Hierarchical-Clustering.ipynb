{
 "cells": [
  {
   "cell_type": "markdown",
   "metadata": {},
   "source": [
    "## <center>Hierarchal Clustering</center>"
   ]
  },
  {
   "cell_type": "code",
   "execution_count": 1,
   "metadata": {},
   "outputs": [],
   "source": [
    "import numpy as np\n",
    "import pandas as pd\n",
    "import matplotlib.pyplot as plt\n",
    "import seaborn as sns"
   ]
  },
  {
   "cell_type": "code",
   "execution_count": 2,
   "metadata": {},
   "outputs": [
    {
     "data": {
      "text/html": [
       "<div>\n",
       "<style scoped>\n",
       "    .dataframe tbody tr th:only-of-type {\n",
       "        vertical-align: middle;\n",
       "    }\n",
       "\n",
       "    .dataframe tbody tr th {\n",
       "        vertical-align: top;\n",
       "    }\n",
       "\n",
       "    .dataframe thead th {\n",
       "        text-align: right;\n",
       "    }\n",
       "</style>\n",
       "<table border=\"1\" class=\"dataframe\">\n",
       "  <thead>\n",
       "    <tr style=\"text-align: right;\">\n",
       "      <th></th>\n",
       "      <th>mpg</th>\n",
       "      <th>cylinders</th>\n",
       "      <th>displacement</th>\n",
       "      <th>horsepower</th>\n",
       "      <th>weight</th>\n",
       "      <th>acceleration</th>\n",
       "      <th>model_year</th>\n",
       "      <th>origin</th>\n",
       "      <th>name</th>\n",
       "    </tr>\n",
       "  </thead>\n",
       "  <tbody>\n",
       "    <tr>\n",
       "      <th>0</th>\n",
       "      <td>18.0</td>\n",
       "      <td>8</td>\n",
       "      <td>307.0</td>\n",
       "      <td>130.0</td>\n",
       "      <td>3504</td>\n",
       "      <td>12.0</td>\n",
       "      <td>70</td>\n",
       "      <td>usa</td>\n",
       "      <td>chevrolet chevelle malibu</td>\n",
       "    </tr>\n",
       "    <tr>\n",
       "      <th>1</th>\n",
       "      <td>15.0</td>\n",
       "      <td>8</td>\n",
       "      <td>350.0</td>\n",
       "      <td>165.0</td>\n",
       "      <td>3693</td>\n",
       "      <td>11.5</td>\n",
       "      <td>70</td>\n",
       "      <td>usa</td>\n",
       "      <td>buick skylark 320</td>\n",
       "    </tr>\n",
       "    <tr>\n",
       "      <th>2</th>\n",
       "      <td>18.0</td>\n",
       "      <td>8</td>\n",
       "      <td>318.0</td>\n",
       "      <td>150.0</td>\n",
       "      <td>3436</td>\n",
       "      <td>11.0</td>\n",
       "      <td>70</td>\n",
       "      <td>usa</td>\n",
       "      <td>plymouth satellite</td>\n",
       "    </tr>\n",
       "    <tr>\n",
       "      <th>3</th>\n",
       "      <td>16.0</td>\n",
       "      <td>8</td>\n",
       "      <td>304.0</td>\n",
       "      <td>150.0</td>\n",
       "      <td>3433</td>\n",
       "      <td>12.0</td>\n",
       "      <td>70</td>\n",
       "      <td>usa</td>\n",
       "      <td>amc rebel sst</td>\n",
       "    </tr>\n",
       "    <tr>\n",
       "      <th>4</th>\n",
       "      <td>17.0</td>\n",
       "      <td>8</td>\n",
       "      <td>302.0</td>\n",
       "      <td>140.0</td>\n",
       "      <td>3449</td>\n",
       "      <td>10.5</td>\n",
       "      <td>70</td>\n",
       "      <td>usa</td>\n",
       "      <td>ford torino</td>\n",
       "    </tr>\n",
       "  </tbody>\n",
       "</table>\n",
       "</div>"
      ],
      "text/plain": [
       "    mpg  cylinders  displacement  horsepower  weight  acceleration  \\\n",
       "0  18.0          8         307.0       130.0    3504          12.0   \n",
       "1  15.0          8         350.0       165.0    3693          11.5   \n",
       "2  18.0          8         318.0       150.0    3436          11.0   \n",
       "3  16.0          8         304.0       150.0    3433          12.0   \n",
       "4  17.0          8         302.0       140.0    3449          10.5   \n",
       "\n",
       "   model_year origin                       name  \n",
       "0          70    usa  chevrolet chevelle malibu  \n",
       "1          70    usa          buick skylark 320  \n",
       "2          70    usa         plymouth satellite  \n",
       "3          70    usa              amc rebel sst  \n",
       "4          70    usa                ford torino  "
      ]
     },
     "execution_count": 2,
     "metadata": {},
     "output_type": "execute_result"
    }
   ],
   "source": [
    "df = pd.read_csv('C:/Users/Lenovo/Desktop/Python/Machine Learning/Unsupervised Learning/Hierarchal Clustering/Data Sets/cluster_mpg.csv')\n",
    "df.dropna(inplace=True)\n",
    "df.head()"
   ]
  },
  {
   "cell_type": "code",
   "execution_count": 3,
   "metadata": {},
   "outputs": [
    {
     "data": {
      "text/html": [
       "<div>\n",
       "<style scoped>\n",
       "    .dataframe tbody tr th:only-of-type {\n",
       "        vertical-align: middle;\n",
       "    }\n",
       "\n",
       "    .dataframe tbody tr th {\n",
       "        vertical-align: top;\n",
       "    }\n",
       "\n",
       "    .dataframe thead th {\n",
       "        text-align: right;\n",
       "    }\n",
       "</style>\n",
       "<table border=\"1\" class=\"dataframe\">\n",
       "  <thead>\n",
       "    <tr style=\"text-align: right;\">\n",
       "      <th></th>\n",
       "      <th>mpg</th>\n",
       "      <th>cylinders</th>\n",
       "      <th>displacement</th>\n",
       "      <th>horsepower</th>\n",
       "      <th>weight</th>\n",
       "      <th>acceleration</th>\n",
       "      <th>model_year</th>\n",
       "    </tr>\n",
       "  </thead>\n",
       "  <tbody>\n",
       "    <tr>\n",
       "      <th>count</th>\n",
       "      <td>392.000000</td>\n",
       "      <td>392.000000</td>\n",
       "      <td>392.000000</td>\n",
       "      <td>392.000000</td>\n",
       "      <td>392.000000</td>\n",
       "      <td>392.000000</td>\n",
       "      <td>392.000000</td>\n",
       "    </tr>\n",
       "    <tr>\n",
       "      <th>mean</th>\n",
       "      <td>23.445918</td>\n",
       "      <td>5.471939</td>\n",
       "      <td>194.411990</td>\n",
       "      <td>104.469388</td>\n",
       "      <td>2977.584184</td>\n",
       "      <td>15.541327</td>\n",
       "      <td>75.979592</td>\n",
       "    </tr>\n",
       "    <tr>\n",
       "      <th>std</th>\n",
       "      <td>7.805007</td>\n",
       "      <td>1.705783</td>\n",
       "      <td>104.644004</td>\n",
       "      <td>38.491160</td>\n",
       "      <td>849.402560</td>\n",
       "      <td>2.758864</td>\n",
       "      <td>3.683737</td>\n",
       "    </tr>\n",
       "    <tr>\n",
       "      <th>min</th>\n",
       "      <td>9.000000</td>\n",
       "      <td>3.000000</td>\n",
       "      <td>68.000000</td>\n",
       "      <td>46.000000</td>\n",
       "      <td>1613.000000</td>\n",
       "      <td>8.000000</td>\n",
       "      <td>70.000000</td>\n",
       "    </tr>\n",
       "    <tr>\n",
       "      <th>25%</th>\n",
       "      <td>17.000000</td>\n",
       "      <td>4.000000</td>\n",
       "      <td>105.000000</td>\n",
       "      <td>75.000000</td>\n",
       "      <td>2225.250000</td>\n",
       "      <td>13.775000</td>\n",
       "      <td>73.000000</td>\n",
       "    </tr>\n",
       "    <tr>\n",
       "      <th>50%</th>\n",
       "      <td>22.750000</td>\n",
       "      <td>4.000000</td>\n",
       "      <td>151.000000</td>\n",
       "      <td>93.500000</td>\n",
       "      <td>2803.500000</td>\n",
       "      <td>15.500000</td>\n",
       "      <td>76.000000</td>\n",
       "    </tr>\n",
       "    <tr>\n",
       "      <th>75%</th>\n",
       "      <td>29.000000</td>\n",
       "      <td>8.000000</td>\n",
       "      <td>275.750000</td>\n",
       "      <td>126.000000</td>\n",
       "      <td>3614.750000</td>\n",
       "      <td>17.025000</td>\n",
       "      <td>79.000000</td>\n",
       "    </tr>\n",
       "    <tr>\n",
       "      <th>max</th>\n",
       "      <td>46.600000</td>\n",
       "      <td>8.000000</td>\n",
       "      <td>455.000000</td>\n",
       "      <td>230.000000</td>\n",
       "      <td>5140.000000</td>\n",
       "      <td>24.800000</td>\n",
       "      <td>82.000000</td>\n",
       "    </tr>\n",
       "  </tbody>\n",
       "</table>\n",
       "</div>"
      ],
      "text/plain": [
       "              mpg   cylinders  displacement  horsepower       weight  \\\n",
       "count  392.000000  392.000000    392.000000  392.000000   392.000000   \n",
       "mean    23.445918    5.471939    194.411990  104.469388  2977.584184   \n",
       "std      7.805007    1.705783    104.644004   38.491160   849.402560   \n",
       "min      9.000000    3.000000     68.000000   46.000000  1613.000000   \n",
       "25%     17.000000    4.000000    105.000000   75.000000  2225.250000   \n",
       "50%     22.750000    4.000000    151.000000   93.500000  2803.500000   \n",
       "75%     29.000000    8.000000    275.750000  126.000000  3614.750000   \n",
       "max     46.600000    8.000000    455.000000  230.000000  5140.000000   \n",
       "\n",
       "       acceleration  model_year  \n",
       "count    392.000000  392.000000  \n",
       "mean      15.541327   75.979592  \n",
       "std        2.758864    3.683737  \n",
       "min        8.000000   70.000000  \n",
       "25%       13.775000   73.000000  \n",
       "50%       15.500000   76.000000  \n",
       "75%       17.025000   79.000000  \n",
       "max       24.800000   82.000000  "
      ]
     },
     "execution_count": 3,
     "metadata": {},
     "output_type": "execute_result"
    }
   ],
   "source": [
    "df.describe()"
   ]
  },
  {
   "cell_type": "code",
   "execution_count": 4,
   "metadata": {},
   "outputs": [
    {
     "data": {
      "text/plain": [
       "usa       245\n",
       "japan      79\n",
       "europe     68\n",
       "Name: origin, dtype: int64"
      ]
     },
     "execution_count": 4,
     "metadata": {},
     "output_type": "execute_result"
    }
   ],
   "source": [
    "df['origin'].value_counts()"
   ]
  },
  {
   "cell_type": "code",
   "execution_count": 5,
   "metadata": {},
   "outputs": [
    {
     "data": {
      "text/html": [
       "<div>\n",
       "<style scoped>\n",
       "    .dataframe tbody tr th:only-of-type {\n",
       "        vertical-align: middle;\n",
       "    }\n",
       "\n",
       "    .dataframe tbody tr th {\n",
       "        vertical-align: top;\n",
       "    }\n",
       "\n",
       "    .dataframe thead th {\n",
       "        text-align: right;\n",
       "    }\n",
       "</style>\n",
       "<table border=\"1\" class=\"dataframe\">\n",
       "  <thead>\n",
       "    <tr style=\"text-align: right;\">\n",
       "      <th></th>\n",
       "      <th>mpg</th>\n",
       "      <th>cylinders</th>\n",
       "      <th>displacement</th>\n",
       "      <th>horsepower</th>\n",
       "      <th>weight</th>\n",
       "      <th>acceleration</th>\n",
       "      <th>model_year</th>\n",
       "      <th>origin_europe</th>\n",
       "      <th>origin_japan</th>\n",
       "      <th>origin_usa</th>\n",
       "    </tr>\n",
       "  </thead>\n",
       "  <tbody>\n",
       "    <tr>\n",
       "      <th>0</th>\n",
       "      <td>18.0</td>\n",
       "      <td>8</td>\n",
       "      <td>307.0</td>\n",
       "      <td>130.0</td>\n",
       "      <td>3504</td>\n",
       "      <td>12.0</td>\n",
       "      <td>70</td>\n",
       "      <td>0</td>\n",
       "      <td>0</td>\n",
       "      <td>1</td>\n",
       "    </tr>\n",
       "    <tr>\n",
       "      <th>1</th>\n",
       "      <td>15.0</td>\n",
       "      <td>8</td>\n",
       "      <td>350.0</td>\n",
       "      <td>165.0</td>\n",
       "      <td>3693</td>\n",
       "      <td>11.5</td>\n",
       "      <td>70</td>\n",
       "      <td>0</td>\n",
       "      <td>0</td>\n",
       "      <td>1</td>\n",
       "    </tr>\n",
       "    <tr>\n",
       "      <th>2</th>\n",
       "      <td>18.0</td>\n",
       "      <td>8</td>\n",
       "      <td>318.0</td>\n",
       "      <td>150.0</td>\n",
       "      <td>3436</td>\n",
       "      <td>11.0</td>\n",
       "      <td>70</td>\n",
       "      <td>0</td>\n",
       "      <td>0</td>\n",
       "      <td>1</td>\n",
       "    </tr>\n",
       "    <tr>\n",
       "      <th>3</th>\n",
       "      <td>16.0</td>\n",
       "      <td>8</td>\n",
       "      <td>304.0</td>\n",
       "      <td>150.0</td>\n",
       "      <td>3433</td>\n",
       "      <td>12.0</td>\n",
       "      <td>70</td>\n",
       "      <td>0</td>\n",
       "      <td>0</td>\n",
       "      <td>1</td>\n",
       "    </tr>\n",
       "    <tr>\n",
       "      <th>4</th>\n",
       "      <td>17.0</td>\n",
       "      <td>8</td>\n",
       "      <td>302.0</td>\n",
       "      <td>140.0</td>\n",
       "      <td>3449</td>\n",
       "      <td>10.5</td>\n",
       "      <td>70</td>\n",
       "      <td>0</td>\n",
       "      <td>0</td>\n",
       "      <td>1</td>\n",
       "    </tr>\n",
       "    <tr>\n",
       "      <th>...</th>\n",
       "      <td>...</td>\n",
       "      <td>...</td>\n",
       "      <td>...</td>\n",
       "      <td>...</td>\n",
       "      <td>...</td>\n",
       "      <td>...</td>\n",
       "      <td>...</td>\n",
       "      <td>...</td>\n",
       "      <td>...</td>\n",
       "      <td>...</td>\n",
       "    </tr>\n",
       "    <tr>\n",
       "      <th>387</th>\n",
       "      <td>27.0</td>\n",
       "      <td>4</td>\n",
       "      <td>140.0</td>\n",
       "      <td>86.0</td>\n",
       "      <td>2790</td>\n",
       "      <td>15.6</td>\n",
       "      <td>82</td>\n",
       "      <td>0</td>\n",
       "      <td>0</td>\n",
       "      <td>1</td>\n",
       "    </tr>\n",
       "    <tr>\n",
       "      <th>388</th>\n",
       "      <td>44.0</td>\n",
       "      <td>4</td>\n",
       "      <td>97.0</td>\n",
       "      <td>52.0</td>\n",
       "      <td>2130</td>\n",
       "      <td>24.6</td>\n",
       "      <td>82</td>\n",
       "      <td>1</td>\n",
       "      <td>0</td>\n",
       "      <td>0</td>\n",
       "    </tr>\n",
       "    <tr>\n",
       "      <th>389</th>\n",
       "      <td>32.0</td>\n",
       "      <td>4</td>\n",
       "      <td>135.0</td>\n",
       "      <td>84.0</td>\n",
       "      <td>2295</td>\n",
       "      <td>11.6</td>\n",
       "      <td>82</td>\n",
       "      <td>0</td>\n",
       "      <td>0</td>\n",
       "      <td>1</td>\n",
       "    </tr>\n",
       "    <tr>\n",
       "      <th>390</th>\n",
       "      <td>28.0</td>\n",
       "      <td>4</td>\n",
       "      <td>120.0</td>\n",
       "      <td>79.0</td>\n",
       "      <td>2625</td>\n",
       "      <td>18.6</td>\n",
       "      <td>82</td>\n",
       "      <td>0</td>\n",
       "      <td>0</td>\n",
       "      <td>1</td>\n",
       "    </tr>\n",
       "    <tr>\n",
       "      <th>391</th>\n",
       "      <td>31.0</td>\n",
       "      <td>4</td>\n",
       "      <td>119.0</td>\n",
       "      <td>82.0</td>\n",
       "      <td>2720</td>\n",
       "      <td>19.4</td>\n",
       "      <td>82</td>\n",
       "      <td>0</td>\n",
       "      <td>0</td>\n",
       "      <td>1</td>\n",
       "    </tr>\n",
       "  </tbody>\n",
       "</table>\n",
       "<p>392 rows × 10 columns</p>\n",
       "</div>"
      ],
      "text/plain": [
       "      mpg  cylinders  displacement  horsepower  weight  acceleration  \\\n",
       "0    18.0          8         307.0       130.0    3504          12.0   \n",
       "1    15.0          8         350.0       165.0    3693          11.5   \n",
       "2    18.0          8         318.0       150.0    3436          11.0   \n",
       "3    16.0          8         304.0       150.0    3433          12.0   \n",
       "4    17.0          8         302.0       140.0    3449          10.5   \n",
       "..    ...        ...           ...         ...     ...           ...   \n",
       "387  27.0          4         140.0        86.0    2790          15.6   \n",
       "388  44.0          4          97.0        52.0    2130          24.6   \n",
       "389  32.0          4         135.0        84.0    2295          11.6   \n",
       "390  28.0          4         120.0        79.0    2625          18.6   \n",
       "391  31.0          4         119.0        82.0    2720          19.4   \n",
       "\n",
       "     model_year  origin_europe  origin_japan  origin_usa  \n",
       "0            70              0             0           1  \n",
       "1            70              0             0           1  \n",
       "2            70              0             0           1  \n",
       "3            70              0             0           1  \n",
       "4            70              0             0           1  \n",
       "..          ...            ...           ...         ...  \n",
       "387          82              0             0           1  \n",
       "388          82              1             0           0  \n",
       "389          82              0             0           1  \n",
       "390          82              0             0           1  \n",
       "391          82              0             0           1  \n",
       "\n",
       "[392 rows x 10 columns]"
      ]
     },
     "execution_count": 5,
     "metadata": {},
     "output_type": "execute_result"
    }
   ],
   "source": [
    "df1 = pd.get_dummies(df.drop('name',axis=1))\n",
    "df1"
   ]
  },
  {
   "cell_type": "code",
   "execution_count": 6,
   "metadata": {},
   "outputs": [],
   "source": [
    "from sklearn.preprocessing import MinMaxScaler # Recomended for hierarchical clustering"
   ]
  },
  {
   "cell_type": "code",
   "execution_count": 7,
   "metadata": {},
   "outputs": [],
   "source": [
    "scaler = MinMaxScaler()\n",
    "scaled_data = scaler.fit_transform(df1)\n",
    "df2 = pd.DataFrame(scaled_data,columns=df1.columns)"
   ]
  },
  {
   "cell_type": "markdown",
   "metadata": {},
   "source": [
    "#### Visual Clustering"
   ]
  },
  {
   "cell_type": "code",
   "execution_count": 8,
   "metadata": {},
   "outputs": [
    {
     "data": {
      "image/png": "[encoded data removed]",
      "text/plain": [
       "<Figure size 1080x576 with 2 Axes>"
      ]
     },
     "metadata": {
      "needs_background": "light"
     },
     "output_type": "display_data"
    }
   ],
   "source": [
    "plt.figure(figsize=(15,8))\n",
    "sns.heatmap(df2,cmap='magma');"
   ]
  },
  {
   "cell_type": "code",
   "execution_count": 9,
   "metadata": {},
   "outputs": [
    {
     "data": {
      "text/plain": [
       "<seaborn.matrix.ClusterGrid at 0x2166a2b8c10>"
      ]
     },
     "execution_count": 9,
     "metadata": {},
     "output_type": "execute_result"
    },
    {
     "data": {
      "image/png": "[encoded data removed]",
      "text/plain": [
       "<Figure size 720x720 with 4 Axes>"
      ]
     },
     "metadata": {
      "needs_background": "light"
     },
     "output_type": "display_data"
    }
   ],
   "source": [
    "sns.clustermap(df2,row_cluster=False)\n",
    "# Once scaled, for col features, dummy variables should be taken out, due to the fact that they have the biggest distance."
   ]
  },
  {
   "cell_type": "code",
   "execution_count": 10,
   "metadata": {},
   "outputs": [
    {
     "data": {
      "text/plain": [
       "<seaborn.matrix.ClusterGrid at 0x216698245e0>"
      ]
     },
     "execution_count": 10,
     "metadata": {},
     "output_type": "execute_result"
    },
    {
     "data": {
      "image/png": "[encoded data removed]",
      "text/plain": [
       "<Figure size 720x720 with 4 Axes>"
      ]
     },
     "metadata": {
      "needs_background": "light"
     },
     "output_type": "display_data"
    }
   ],
   "source": [
    "sns.clustermap(df2,col_cluster=False) # For index clustering, the interpretation is more difficult, however is \n",
    "# the interesting part in the exercise, the column clustering doesn't give much valuable information. "
   ]
  },
  {
   "cell_type": "markdown",
   "metadata": {},
   "source": [
    "### Agglomerative Clustering and Dendograms"
   ]
  },
  {
   "cell_type": "code",
   "execution_count": 11,
   "metadata": {},
   "outputs": [
    {
     "name": "stdout",
     "output_type": "stream",
     "text": [
      "Help on class AgglomerativeClustering in module sklearn.cluster._agglomerative:\n",
      "\n",
      "class AgglomerativeClustering(sklearn.base.ClusterMixin, sklearn.base.BaseEstimator)\n",
      " |  AgglomerativeClustering(n_clusters=2, *, affinity='euclidean', memory=None, connectivity=None, compute_full_tree='auto', linkage='ward', distance_threshold=None, compute_distances=False)\n",
      " |  \n",
      " |  Agglomerative Clustering.\n",
      " |  \n",
      " |  Recursively merges pair of clusters of sample data; uses linkage distance.\n",
      " |  \n",
      " |  Read more in the :ref:`User Guide <hierarchical_clustering>`.\n",
      " |  \n",
      " |  Parameters\n",
      " |  ----------\n",
      " |  n_clusters : int or None, default=2\n",
      " |      The number of clusters to find. It must be ``None`` if\n",
      " |      ``distance_threshold`` is not ``None``.\n",
      " |  \n",
      " |  affinity : str or callable, default='euclidean'\n",
      " |      Metric used to compute the linkage. Can be \"euclidean\", \"l1\", \"l2\",\n",
      " |      \"manhattan\", \"cosine\", or \"precomputed\".\n",
      " |      If linkage is \"ward\", only \"euclidean\" is accepted.\n",
      " |      If \"precomputed\", a distance matrix (instead of a similarity matrix)\n",
      " |      is needed as input for the fit method.\n",
      " |  \n",
      " |  memory : str or object with the joblib.Memory interface, default=None\n",
      " |      Used to cache the output of the computation of the tree.\n",
      " |      By default, no caching is done. If a string is given, it is the\n",
      " |      path to the caching directory.\n",
      " |  \n",
      " |  connectivity : array-like or callable, default=None\n",
      " |      Connectivity matrix. Defines for each sample the neighboring\n",
      " |      samples following a given structure of the data.\n",
      " |      This can be a connectivity matrix itself or a callable that transforms\n",
      " |      the data into a connectivity matrix, such as derived from\n",
      " |      `kneighbors_graph`. Default is ``None``, i.e, the\n",
      " |      hierarchical clustering algorithm is unstructured.\n",
      " |  \n",
      " |  compute_full_tree : 'auto' or bool, default='auto'\n",
      " |      Stop early the construction of the tree at ``n_clusters``. This is\n",
      " |      useful to decrease computation time if the number of clusters is not\n",
      " |      small compared to the number of samples. This option is useful only\n",
      " |      when specifying a connectivity matrix. Note also that when varying the\n",
      " |      number of clusters and using caching, it may be advantageous to compute\n",
      " |      the full tree. It must be ``True`` if ``distance_threshold`` is not\n",
      " |      ``None``. By default `compute_full_tree` is \"auto\", which is equivalent\n",
      " |      to `True` when `distance_threshold` is not `None` or that `n_clusters`\n",
      " |      is inferior to the maximum between 100 or `0.02 * n_samples`.\n",
      " |      Otherwise, \"auto\" is equivalent to `False`.\n",
      " |  \n",
      " |  linkage : {'ward', 'complete', 'average', 'single'}, default='ward'\n",
      " |      Which linkage criterion to use. The linkage criterion determines which\n",
      " |      distance to use between sets of observation. The algorithm will merge\n",
      " |      the pairs of cluster that minimize this criterion.\n",
      " |  \n",
      " |      - 'ward' minimizes the variance of the clusters being merged.\n",
      " |      - 'average' uses the average of the distances of each observation of\n",
      " |        the two sets.\n",
      " |      - 'complete' or 'maximum' linkage uses the maximum distances between\n",
      " |        all observations of the two sets.\n",
      " |      - 'single' uses the minimum of the distances between all observations\n",
      " |        of the two sets.\n",
      " |  \n",
      " |      .. versionadded:: 0.20\n",
      " |          Added the 'single' option\n",
      " |  \n",
      " |  distance_threshold : float, default=None\n",
      " |      The linkage distance threshold above which, clusters will not be\n",
      " |      merged. If not ``None``, ``n_clusters`` must be ``None`` and\n",
      " |      ``compute_full_tree`` must be ``True``.\n",
      " |  \n",
      " |      .. versionadded:: 0.21\n",
      " |  \n",
      " |  compute_distances : bool, default=False\n",
      " |      Computes distances between clusters even if `distance_threshold` is not\n",
      " |      used. This can be used to make dendrogram visualization, but introduces\n",
      " |      a computational and memory overhead.\n",
      " |  \n",
      " |      .. versionadded:: 0.24\n",
      " |  \n",
      " |  Attributes\n",
      " |  ----------\n",
      " |  n_clusters_ : int\n",
      " |      The number of clusters found by the algorithm. If\n",
      " |      ``distance_threshold=None``, it will be equal to the given\n",
      " |      ``n_clusters``.\n",
      " |  \n",
      " |  labels_ : ndarray of shape (n_samples)\n",
      " |      Cluster labels for each point.\n",
      " |  \n",
      " |  n_leaves_ : int\n",
      " |      Number of leaves in the hierarchical tree.\n",
      " |  \n",
      " |  n_connected_components_ : int\n",
      " |      The estimated number of connected components in the graph.\n",
      " |  \n",
      " |      .. versionadded:: 0.21\n",
      " |          ``n_connected_components_`` was added to replace ``n_components_``.\n",
      " |  \n",
      " |  n_features_in_ : int\n",
      " |      Number of features seen during :term:`fit`.\n",
      " |  \n",
      " |      .. versionadded:: 0.24\n",
      " |  \n",
      " |  feature_names_in_ : ndarray of shape (`n_features_in_`,)\n",
      " |      Names of features seen during :term:`fit`. Defined only when `X`\n",
      " |      has feature names that are all strings.\n",
      " |  \n",
      " |      .. versionadded:: 1.0\n",
      " |  \n",
      " |  children_ : array-like of shape (n_samples-1, 2)\n",
      " |      The children of each non-leaf node. Values less than `n_samples`\n",
      " |      correspond to leaves of the tree which are the original samples.\n",
      " |      A node `i` greater than or equal to `n_samples` is a non-leaf\n",
      " |      node and has children `children_[i - n_samples]`. Alternatively\n",
      " |      at the i-th iteration, children[i][0] and children[i][1]\n",
      " |      are merged to form node `n_samples + i`.\n",
      " |  \n",
      " |  distances_ : array-like of shape (n_nodes-1,)\n",
      " |      Distances between nodes in the corresponding place in `children_`.\n",
      " |      Only computed if `distance_threshold` is used or `compute_distances`\n",
      " |      is set to `True`.\n",
      " |  \n",
      " |  See Also\n",
      " |  --------\n",
      " |  FeatureAgglomeration : Agglomerative clustering but for features instead of\n",
      " |      samples.\n",
      " |  ward_tree : Hierarchical clustering with ward linkage.\n",
      " |  \n",
      " |  Examples\n",
      " |  --------\n",
      " |  >>> from sklearn.cluster import AgglomerativeClustering\n",
      " |  >>> import numpy as np\n",
      " |  >>> X = np.array([[1, 2], [1, 4], [1, 0],\n",
      " |  ...               [4, 2], [4, 4], [4, 0]])\n",
      " |  >>> clustering = AgglomerativeClustering().fit(X)\n",
      " |  >>> clustering\n",
      " |  AgglomerativeClustering()\n",
      " |  >>> clustering.labels_\n",
      " |  array([1, 1, 1, 0, 0, 0])\n",
      " |  \n",
      " |  Method resolution order:\n",
      " |      AgglomerativeClustering\n",
      " |      sklearn.base.ClusterMixin\n",
      " |      sklearn.base.BaseEstimator\n",
      " |      builtins.object\n",
      " |  \n",
      " |  Methods defined here:\n",
      " |  \n",
      " |  __init__(self, n_clusters=2, *, affinity='euclidean', memory=None, connectivity=None, compute_full_tree='auto', linkage='ward', distance_threshold=None, compute_distances=False)\n",
      " |      Initialize self.  See help(type(self)) for accurate signature.\n",
      " |  \n",
      " |  fit(self, X, y=None)\n",
      " |      Fit the hierarchical clustering from features, or distance matrix.\n",
      " |      \n",
      " |      Parameters\n",
      " |      ----------\n",
      " |      X : array-like, shape (n_samples, n_features) or                 (n_samples, n_samples)\n",
      " |          Training instances to cluster, or distances between instances if\n",
      " |          ``affinity='precomputed'``.\n",
      " |      \n",
      " |      y : Ignored\n",
      " |          Not used, present here for API consistency by convention.\n",
      " |      \n",
      " |      Returns\n",
      " |      -------\n",
      " |      self : object\n",
      " |          Returns the fitted instance.\n",
      " |  \n",
      " |  fit_predict(self, X, y=None)\n",
      " |      Fit and return the result of each sample's clustering assignment.\n",
      " |      \n",
      " |      In addition to fitting, this method also return the result of the\n",
      " |      clustering assignment for each sample in the training set.\n",
      " |      \n",
      " |      Parameters\n",
      " |      ----------\n",
      " |      X : array-like of shape (n_samples, n_features) or                 (n_samples, n_samples)\n",
      " |          Training instances to cluster, or distances between instances if\n",
      " |          ``affinity='precomputed'``.\n",
      " |      \n",
      " |      y : Ignored\n",
      " |          Not used, present here for API consistency by convention.\n",
      " |      \n",
      " |      Returns\n",
      " |      -------\n",
      " |      labels : ndarray of shape (n_samples,)\n",
      " |          Cluster labels.\n",
      " |  \n",
      " |  ----------------------------------------------------------------------\n",
      " |  Data descriptors inherited from sklearn.base.ClusterMixin:\n",
      " |  \n",
      " |  __dict__\n",
      " |      dictionary for instance variables (if defined)\n",
      " |  \n",
      " |  __weakref__\n",
      " |      list of weak references to the object (if defined)\n",
      " |  \n",
      " |  ----------------------------------------------------------------------\n",
      " |  Methods inherited from sklearn.base.BaseEstimator:\n",
      " |  \n",
      " |  __getstate__(self)\n",
      " |  \n",
      " |  __repr__(self, N_CHAR_MAX=700)\n",
      " |      Return repr(self).\n",
      " |  \n",
      " |  __setstate__(self, state)\n",
      " |  \n",
      " |  get_params(self, deep=True)\n",
      " |      Get parameters for this estimator.\n",
      " |      \n",
      " |      Parameters\n",
      " |      ----------\n",
      " |      deep : bool, default=True\n",
      " |          If True, will return the parameters for this estimator and\n",
      " |          contained subobjects that are estimators.\n",
      " |      \n",
      " |      Returns\n",
      " |      -------\n",
      " |      params : dict\n",
      " |          Parameter names mapped to their values.\n",
      " |  \n",
      " |  set_params(self, **params)\n",
      " |      Set the parameters of this estimator.\n",
      " |      \n",
      " |      The method works on simple estimators as well as on nested objects\n",
      " |      (such as :class:`~sklearn.pipeline.Pipeline`). The latter have\n",
      " |      parameters of the form ``<component>__<parameter>`` so that it's\n",
      " |      possible to update each component of a nested object.\n",
      " |      \n",
      " |      Parameters\n",
      " |      ----------\n",
      " |      **params : dict\n",
      " |          Estimator parameters.\n",
      " |      \n",
      " |      Returns\n",
      " |      -------\n",
      " |      self : estimator instance\n",
      " |          Estimator instance.\n",
      "\n"
     ]
    }
   ],
   "source": [
    "from sklearn.cluster import AgglomerativeClustering\n",
    "help(AgglomerativeClustering)"
   ]
  },
  {
   "cell_type": "code",
   "execution_count": 12,
   "metadata": {},
   "outputs": [
    {
     "data": {
      "text/plain": [
       "array([1, 1, 1, 1, 1, 1, 1, 1, 1, 1, 1, 1, 1, 1, 3, 0, 0, 0, 3, 2, 2, 2,\n",
       "       2, 2, 0, 1, 1, 1, 1, 3, 0, 3, 0, 0, 0, 0, 0, 1, 1, 1, 1, 1, 1, 1,\n",
       "       0, 0, 0, 0, 0, 2, 2, 2, 3, 3, 2, 0, 3, 0, 2, 0, 0, 1, 1, 1, 1, 1,\n",
       "       1, 1, 1, 1, 3, 1, 1, 1, 1, 2, 2, 2, 2, 0, 3, 3, 0, 3, 1, 1, 1, 1,\n",
       "       1, 1, 1, 1, 1, 1, 1, 1, 0, 0, 0, 0, 0, 2, 1, 1, 1, 1, 0, 3, 0, 3,\n",
       "       3, 0, 0, 2, 1, 1, 2, 2, 2, 2, 1, 2, 3, 1, 0, 0, 0, 3, 0, 3, 0, 0,\n",
       "       0, 0, 1, 1, 1, 1, 1, 2, 2, 2, 3, 3, 0, 2, 2, 3, 3, 2, 0, 0, 0, 0,\n",
       "       1, 1, 1, 1, 0, 0, 0, 0, 0, 1, 1, 3, 0, 0, 0, 3, 2, 3, 0, 2, 0, 2,\n",
       "       2, 2, 2, 3, 2, 2, 0, 0, 2, 1, 1, 1, 1, 0, 0, 0, 0, 0, 0, 2, 3, 0,\n",
       "       0, 0, 0, 2, 3, 3, 0, 2, 1, 2, 3, 2, 1, 1, 1, 1, 3, 0, 2, 0, 3, 1,\n",
       "       1, 1, 1, 0, 0, 0, 0, 1, 1, 1, 1, 2, 0, 3, 0, 0, 0, 3, 2, 3, 2, 3,\n",
       "       2, 0, 3, 3, 3, 1, 1, 1, 0, 0, 0, 0, 0, 0, 0, 0, 0, 0, 1, 0, 1, 1,\n",
       "       0, 3, 3, 0, 3, 0, 0, 3, 2, 2, 2, 2, 2, 3, 0, 0, 0, 0, 0, 1, 1, 1,\n",
       "       1, 1, 1, 1, 1, 2, 3, 0, 0, 2, 1, 2, 1, 0, 0, 3, 2, 0, 0, 0, 0, 2,\n",
       "       3, 0, 3, 0, 0, 0, 0, 2, 3, 3, 3, 3, 3, 0, 3, 2, 2, 2, 2, 3, 3, 2,\n",
       "       3, 3, 2, 3, 0, 0, 0, 0, 0, 3, 0, 3, 3, 3, 3, 3, 0, 0, 0, 2, 3, 3,\n",
       "       3, 3, 2, 2, 3, 3, 0, 1, 0, 0, 0, 0, 0, 0, 0, 0, 0, 2, 3, 3, 0, 0,\n",
       "       3, 3, 3, 3, 3, 3, 0, 0, 0, 0, 3, 0, 0, 0, 2, 0, 0, 0], dtype=int64)"
      ]
     },
     "execution_count": 12,
     "metadata": {},
     "output_type": "execute_result"
    }
   ],
   "source": [
    "model = AgglomerativeClustering(n_clusters=4)\n",
    "cluster_labels = model.fit_predict(df2)\n",
    "cluster_labels # Forces the data to fit in 4 clusters"
   ]
  },
  {
   "cell_type": "markdown",
   "metadata": {},
   "source": [
    "#### Choosing a Threshold Distance\n",
    "\n",
    " When declaring a distance_threshold, the n_cluster must be set to None, due to the fact that the number of cluters are calculated with this method\n"
   ]
  },
  {
   "cell_type": "code",
   "execution_count": 13,
   "metadata": {},
   "outputs": [
    {
     "data": {
      "text/plain": [
       "array([247, 252, 360, 302, 326, 381, 384, 338, 300, 279, 217, 311, 377,\n",
       "       281, 232, 334, 272, 375, 354, 333, 317, 345, 329, 289, 305, 383,\n",
       "       290, 205, 355, 269, 202, 144, 245, 297, 386, 358, 199, 337, 330,\n",
       "       339, 293, 352, 283, 196, 253, 168, 378, 331, 201, 268, 256, 361,\n",
       "       250, 197, 246, 371, 324, 230, 203, 261, 380, 376, 308, 389, 332,\n",
       "       306, 236, 391, 350, 274, 288, 313, 231, 298, 100, 295, 210, 248,\n",
       "       187, 390, 373, 266, 307, 379, 212, 357, 191, 314, 208, 249, 343,\n",
       "       294, 374, 322, 323, 362, 188, 296, 369, 286, 251, 229, 244, 285,\n",
       "       349, 365, 259, 213, 276, 215, 222, 204, 359, 287, 166, 387, 291,\n",
       "       220, 216, 260, 129, 367, 340, 346, 301, 342, 228, 388, 370, 218,\n",
       "       255, 327, 347, 278, 271, 258, 282, 318, 273, 123, 172, 382, 363,\n",
       "       356, 195, 280, 239, 364, 267, 351, 186, 257, 277, 299, 127, 366,\n",
       "       234, 385, 192, 372, 292, 233, 270, 263, 133, 165, 161, 198,  97,\n",
       "       315, 134, 207, 147, 175, 262, 348,  98, 214,  48, 353, 177, 325,\n",
       "       128, 284, 275, 182, 184, 145, 344, 321, 200, 149, 240, 241, 235,\n",
       "       226, 160, 341, 193, 320, 101, 224, 162, 243, 146,  99, 185, 119,\n",
       "       219, 209, 265, 221, 335,  66, 121, 316, 319, 254, 264, 124, 336,\n",
       "       304, 206, 106, 148, 368, 122, 164, 131, 142,  95, 173, 194, 152,\n",
       "       138, 157, 110, 159, 107, 312, 328, 225, 150, 211, 140, 163, 242,\n",
       "       116,  81,  93,  96,  72, 189, 303, 167,  73, 115, 143, 132, 181,\n",
       "       141, 103, 170, 130,  49,  83, 309, 120,  82, 227, 310, 151, 117,\n",
       "       104, 109,  57,  75,  79, 169,  71,  84, 153,  35,  47, 238, 180,\n",
       "        74, 237, 176, 190, 139, 125, 135, 156, 108, 171, 136,  53,  23,\n",
       "        67,  94, 113, 112,  41,  70, 174,  61, 102,  40,  64,  65,  60,\n",
       "       118, 223, 137,  63,  86, 155, 178,  36,  31,  88,  87,  58,  54,\n",
       "       114, 111, 158,  78,  92,  50,  26,  17,  85, 183,  80,  42,  69,\n",
       "        32, 154,  51,  20,  76,  34, 179,  68,  39,  59,  33,  56, 126,\n",
       "        19,  15,  37,  89,  62,  77,  29,  38, 105,  52,  28,  90,  46,\n",
       "        55,  43,   9,  91,  18,  16,  25,   7,  45,  27,  44,   8,  30,\n",
       "        22,  24,  21,  10,   4,  14,  13,  12,  11,   5,   6,   2,   3,\n",
       "         1,   0], dtype=int64)"
      ]
     },
     "execution_count": 13,
     "metadata": {},
     "output_type": "execute_result"
    }
   ],
   "source": [
    "model = AgglomerativeClustering(n_clusters=None, distance_threshold=0) # Assuming every point starts as its own cluster\n",
    "cluster_labels = model.fit_predict(df2)\n",
    "cluster_labels"
   ]
  },
  {
   "cell_type": "markdown",
   "metadata": {},
   "source": [
    "##### Linkage Model\n",
    "A (n-1) by 4 matrix Z is returned. At the i-th iteration, clusters with indices Z[i, 0] and Z[i, 1] are combined to form cluster n + i. A cluster with an index less than n corresponds to one of the original observations. The distance between clusters Z[i, 0] and Z[i, 1] is given by Z[i, 2]. The fourth value Z[i, 3] represents the number of original observations in the newly formed cluster."
   ]
  },
  {
   "cell_type": "code",
   "execution_count": 14,
   "metadata": {},
   "outputs": [],
   "source": [
    "from scipy.cluster.hierarchy import dendrogram\n",
    "from scipy.cluster import hierarchy"
   ]
  },
  {
   "cell_type": "code",
   "execution_count": 15,
   "metadata": {},
   "outputs": [
    {
     "data": {
      "text/plain": [
       "array([[ 67.        , 161.        ,   1.41421356,   2.        ],\n",
       "       [ 10.        ,  45.        ,   1.41421356,   2.        ],\n",
       "       [ 47.        ,  99.        ,   1.41421356,   2.        ],\n",
       "       ...,\n",
       "       [340.        , 777.        ,  56.40035461, 389.        ],\n",
       "       [332.        , 778.        ,  58.69412236, 390.        ],\n",
       "       [349.        , 779.        ,  75.32595834, 391.        ]])"
      ]
     },
     "execution_count": 15,
     "metadata": {},
     "output_type": "execute_result"
    }
   ],
   "source": [
    "linkage_matrix = hierarchy.linkage(model.children_)\n",
    "linkage_matrix # What does each instance in the matrix represents:\n",
    "\n",
    "# Cluster 1       Cluster 2       Distance clusters  Points"
   ]
  },
  {
   "cell_type": "code",
   "execution_count": 16,
   "metadata": {},
   "outputs": [
    {
     "data": {
      "image/png": "[encoded data removed]",
      "text/plain": [
       "<Figure size 1440x720 with 1 Axes>"
      ]
     },
     "metadata": {
      "needs_background": "light"
     },
     "output_type": "display_data"
    }
   ],
   "source": [
    "plt.figure(figsize=(20,10))\n",
    "dn = hierarchy.dendrogram(linkage_matrix)"
   ]
  },
  {
   "cell_type": "markdown",
   "metadata": {},
   "source": [
    "##### Truncating the dendogram"
   ]
  },
  {
   "cell_type": "code",
   "execution_count": 17,
   "metadata": {},
   "outputs": [
    {
     "data": {
      "image/png": "[encoded data removed]",
      "text/plain": [
       "<Figure size 1440x720 with 1 Axes>"
      ]
     },
     "metadata": {
      "needs_background": "light"
     },
     "output_type": "display_data"
    }
   ],
   "source": [
    "plt.figure(figsize=(20,10))\n",
    "dn = hierarchy.dendrogram(linkage_matrix, truncate_mode='lastp', p=10)"
   ]
  },
  {
   "cell_type": "code",
   "execution_count": 18,
   "metadata": {},
   "outputs": [
    {
     "data": {
      "image/png": "[encoded data removed]",
      "text/plain": [
       "<Figure size 1440x720 with 1 Axes>"
      ]
     },
     "metadata": {
      "needs_background": "light"
     },
     "output_type": "display_data"
    }
   ],
   "source": [
    "plt.figure(figsize=(20,10))\n",
    "dn = hierarchy.dendrogram(linkage_matrix, truncate_mode='level', p=3)"
   ]
  },
  {
   "cell_type": "markdown",
   "metadata": {},
   "source": [
    "The truncation methods helps to decide the number of clusters used in the Agglomerative Clustering"
   ]
  },
  {
   "cell_type": "markdown",
   "metadata": {},
   "source": [
    "##### Creating a Model Based on Distance Threshold\n"
   ]
  },
  {
   "cell_type": "markdown",
   "metadata": {},
   "source": [
    "There are many ways to calculate the distance to set on the threshold.\n",
    "- Distance between max and min values in significant instance.\n",
    "- Max distance found between all points."
   ]
  },
  {
   "cell_type": "code",
   "execution_count": 19,
   "metadata": {},
   "outputs": [
    {
     "data": {
      "text/plain": [
       "2.3852929970374714"
      ]
     },
     "execution_count": 19,
     "metadata": {},
     "output_type": "execute_result"
    }
   ],
   "source": [
    "# Distance between the max and min value in the category mpg\n",
    "\n",
    "a = df2.iloc[df2['mpg'].idxmax()]\n",
    "b = df2.iloc[df2['mpg'].idxmin()]\n",
    "dist = np.linalg.norm(a-b)\n",
    "dist"
   ]
  },
  {
   "cell_type": "code",
   "execution_count": 20,
   "metadata": {},
   "outputs": [
    {
     "data": {
      "text/plain": [
       "array([3, 3, 3, 3, 3, 3, 3, 3, 3, 3, 3, 3, 3, 3, 0, 4, 4, 4, 0, 1, 1, 1,\n",
       "       1, 1, 4, 3, 3, 3, 3, 0, 7, 0, 4, 4, 4, 4, 4, 3, 3, 3, 3, 3, 3, 3,\n",
       "       4, 7, 4, 4, 7, 1, 1, 1, 0, 0, 1, 7, 0, 7, 1, 7, 7, 3, 3, 3, 3, 3,\n",
       "       3, 3, 3, 3, 0, 3, 3, 3, 3, 1, 1, 1, 1, 7, 0, 0, 7, 0, 3, 3, 3, 3,\n",
       "       3, 3, 3, 3, 3, 3, 3, 3, 4, 4, 4, 4, 4, 1, 3, 3, 3, 3, 4, 0, 7, 0,\n",
       "       0, 7, 4, 1, 3, 3, 1, 1, 1, 1, 3, 1, 0, 3, 4, 4, 4, 0, 7, 0, 7, 4,\n",
       "       4, 4, 3, 3, 3, 3, 3, 1, 1, 1, 0, 0, 7, 1, 1, 0, 0, 1, 4, 4, 4, 4,\n",
       "       5, 3, 3, 3, 4, 4, 4, 4, 4, 5, 5, 0, 7, 4, 7, 0, 1, 0, 4, 1, 4, 1,\n",
       "       1, 1, 1, 0, 1, 1, 7, 7, 1, 5, 5, 5, 5, 4, 4, 4, 4, 7, 7, 1, 0, 9,\n",
       "       4, 9, 4, 1, 0, 0, 7, 1, 5, 8, 0, 1, 5, 5, 5, 5, 0, 2, 8, 7, 0, 5,\n",
       "       5, 5, 5, 9, 9, 9, 9, 5, 5, 5, 5, 1, 7, 0, 7, 2, 2, 0, 1, 0, 1, 0,\n",
       "       8, 2, 0, 6, 0, 5, 5, 5, 9, 9, 9, 7, 9, 9, 9, 9, 9, 9, 5, 9, 5, 5,\n",
       "       2, 0, 0, 2, 0, 2, 2, 0, 1, 1, 1, 1, 8, 0, 9, 9, 2, 9, 9, 5, 5, 5,\n",
       "       5, 5, 5, 5, 5, 8, 0, 2, 2, 8, 5, 8, 5, 2, 2, 0, 8, 2, 9, 9, 2, 8,\n",
       "       6, 2, 6, 2, 2, 2, 9, 8, 6, 6, 6, 6, 6, 2, 6, 8, 8, 8, 8, 6, 6, 8,\n",
       "       0, 0, 8, 6, 2, 2, 2, 9, 2, 6, 2, 6, 6, 6, 6, 6, 2, 2, 2, 8, 6, 6,\n",
       "       6, 6, 8, 8, 0, 0, 9, 5, 9, 9, 2, 2, 2, 2, 2, 2, 2, 8, 6, 6, 2, 2,\n",
       "       6, 6, 6, 6, 6, 6, 9, 9, 2, 9, 6, 2, 2, 2, 8, 2, 2, 2], dtype=int64)"
      ]
     },
     "execution_count": 20,
     "metadata": {},
     "output_type": "execute_result"
    }
   ],
   "source": [
    "model = AgglomerativeClustering(n_clusters=None,distance_threshold=dist)\n",
    "cluster_labels = model.fit_predict(df2)\n",
    "cluster_labels"
   ]
  },
  {
   "cell_type": "code",
   "execution_count": 21,
   "metadata": {},
   "outputs": [
    {
     "data": {
      "text/plain": [
       "array([0, 1, 2, 3, 4, 5, 6, 7, 8, 9], dtype=int64)"
      ]
     },
     "execution_count": 21,
     "metadata": {},
     "output_type": "execute_result"
    }
   ],
   "source": [
    "lent = np.unique(cluster_labels)\n",
    "lent"
   ]
  },
  {
   "cell_type": "code",
   "execution_count": 22,
   "metadata": {},
   "outputs": [
    {
     "data": {
      "text/plain": [
       "array([[ 67.        , 161.        ,   1.41421356,   2.        ],\n",
       "       [ 10.        ,  45.        ,   1.41421356,   2.        ],\n",
       "       [ 47.        ,  99.        ,   1.41421356,   2.        ],\n",
       "       ...,\n",
       "       [340.        , 777.        ,  56.40035461, 389.        ],\n",
       "       [332.        , 778.        ,  58.69412236, 390.        ],\n",
       "       [349.        , 779.        ,  75.32595834, 391.        ]])"
      ]
     },
     "execution_count": 22,
     "metadata": {},
     "output_type": "execute_result"
    }
   ],
   "source": [
    "linkage_matrix = hierarchy.linkage(model.children_)\n",
    "linkage_matrix"
   ]
  },
  {
   "cell_type": "code",
   "execution_count": 23,
   "metadata": {},
   "outputs": [
    {
     "data": {
      "image/png": "[encoded data removed]",
      "text/plain": [
       "<Figure size 1440x720 with 1 Axes>"
      ]
     },
     "metadata": {
      "needs_background": "light"
     },
     "output_type": "display_data"
    }
   ],
   "source": [
    "plt.figure(figsize=(20,10))\n",
    "dn = hierarchy.dendrogram(linkage_matrix,truncate_mode='lastp',p=len(lent))"
   ]
  },
  {
   "cell_type": "markdown",
   "metadata": {},
   "source": [
    "Max distance between all points. The fact that the MinMaxScaler is used, enables to determine the max distance between points, which is:\n",
    "\n",
    "$$ max_d = \\sqrt{n_{features}}$$"
   ]
  },
  {
   "cell_type": "code",
   "execution_count": 24,
   "metadata": {},
   "outputs": [
    {
     "data": {
      "text/plain": [
       "array([3, 3, 3, 3, 3, 3, 3, 3, 3, 3, 3, 3, 3, 3, 4, 1, 1, 1, 4, 2, 2, 2,\n",
       "       2, 2, 1, 3, 3, 3, 3, 4, 0, 4, 1, 1, 1, 1, 1, 3, 3, 3, 3, 3, 3, 3,\n",
       "       1, 0, 1, 1, 0, 2, 2, 2, 4, 4, 2, 0, 4, 0, 2, 0, 0, 3, 3, 3, 3, 3,\n",
       "       3, 3, 3, 3, 4, 3, 3, 3, 3, 2, 2, 2, 2, 0, 4, 4, 0, 4, 3, 3, 3, 3,\n",
       "       3, 3, 3, 3, 3, 3, 3, 3, 1, 1, 1, 1, 1, 2, 3, 3, 3, 3, 1, 4, 0, 4,\n",
       "       4, 0, 1, 2, 3, 3, 2, 2, 2, 2, 3, 2, 4, 3, 1, 1, 1, 4, 0, 4, 0, 1,\n",
       "       1, 1, 3, 3, 3, 3, 3, 2, 2, 2, 4, 4, 0, 2, 2, 4, 4, 2, 1, 1, 1, 1,\n",
       "       5, 3, 3, 3, 1, 1, 1, 1, 1, 5, 5, 4, 0, 1, 0, 4, 2, 4, 1, 2, 1, 2,\n",
       "       2, 2, 2, 4, 2, 2, 0, 0, 2, 5, 5, 5, 5, 1, 1, 1, 1, 0, 0, 2, 4, 1,\n",
       "       1, 1, 1, 2, 4, 4, 0, 2, 5, 2, 4, 2, 5, 5, 5, 5, 4, 0, 2, 0, 4, 5,\n",
       "       5, 5, 5, 1, 1, 1, 1, 5, 5, 5, 5, 2, 0, 4, 0, 0, 0, 4, 2, 4, 2, 4,\n",
       "       2, 0, 4, 6, 4, 5, 5, 5, 1, 1, 1, 0, 1, 1, 1, 1, 1, 1, 5, 1, 5, 5,\n",
       "       0, 4, 4, 0, 4, 0, 0, 4, 2, 2, 2, 2, 2, 4, 1, 1, 0, 1, 1, 5, 5, 5,\n",
       "       5, 5, 5, 5, 5, 2, 4, 0, 0, 2, 5, 2, 5, 0, 0, 4, 2, 0, 1, 1, 0, 2,\n",
       "       6, 0, 6, 0, 0, 0, 1, 2, 6, 6, 6, 6, 6, 0, 6, 2, 2, 2, 2, 6, 6, 2,\n",
       "       4, 4, 2, 6, 0, 0, 0, 1, 0, 6, 0, 6, 6, 6, 6, 6, 0, 0, 0, 2, 6, 6,\n",
       "       6, 6, 2, 2, 4, 4, 1, 5, 1, 1, 0, 0, 0, 0, 0, 0, 0, 2, 6, 6, 0, 0,\n",
       "       6, 6, 6, 6, 6, 6, 1, 1, 0, 1, 6, 0, 0, 0, 2, 0, 0, 0], dtype=int64)"
      ]
     },
     "execution_count": 24,
     "metadata": {},
     "output_type": "execute_result"
    }
   ],
   "source": [
    "max_dist = np.sqrt(df2.shape[1])\n",
    "\n",
    "model = AgglomerativeClustering(n_clusters=None,distance_threshold=max_dist)\n",
    "cluster_labels = model.fit_predict(df2)\n",
    "cluster_labels"
   ]
  },
  {
   "cell_type": "code",
   "execution_count": 25,
   "metadata": {},
   "outputs": [
    {
     "data": {
      "text/plain": [
       "array([0, 1, 2, 3, 4, 5, 6], dtype=int64)"
      ]
     },
     "execution_count": 25,
     "metadata": {},
     "output_type": "execute_result"
    }
   ],
   "source": [
    "lent = np.unique(cluster_labels)\n",
    "lent"
   ]
  },
  {
   "cell_type": "code",
   "execution_count": 26,
   "metadata": {},
   "outputs": [
    {
     "data": {
      "image/png": "[encoded data removed]",
      "text/plain": [
       "<Figure size 1440x720 with 1 Axes>"
      ]
     },
     "metadata": {
      "needs_background": "light"
     },
     "output_type": "display_data"
    }
   ],
   "source": [
    "linkage_matrix = hierarchy.linkage(model.children_)\n",
    "plt.figure(figsize=(20,10))\n",
    "dn = hierarchy.dendrogram(linkage_matrix,truncate_mode='lastp',p=len(lent))"
   ]
  }
 ],
 "metadata": {
  "anaconda-cloud": {},
  "kernelspec": {
   "display_name": "Python 3.9.12 ('base')",
   "language": "python",
   "name": "python3"
  },
  "language_info": {
   "codemirror_mode": {
    "name": "ipython",
    "version": 3
   },
   "file_extension": ".py",
   "mimetype": "text/x-python",
   "name": "python",
   "nbconvert_exporter": "python",
   "pygments_lexer": "ipython3",
   "version": "3.9.12"
  },
  "vscode": {
   "interpreter": {
    "hash": "20a9e06a1eee47c4abbed4ec8225ad91d78d9800d202b71b6b0a6e47016c6abd"
   }
  }
 },
 "nbformat": 4,
 "nbformat_minor": 1
}
